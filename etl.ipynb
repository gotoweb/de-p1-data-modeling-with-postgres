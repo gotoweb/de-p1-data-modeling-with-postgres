{
 "cells": [
  {
   "cell_type": "markdown",
   "metadata": {
    "editable": true
   },
   "source": [
    "# ETL Processes\n",
    "Use this notebook to develop the ETL process for each of your tables before completing the `etl.py` file to load the whole datasets."
   ]
  },
  {
   "cell_type": "code",
   "execution_count": 1,
   "metadata": {
    "editable": true
   },
   "outputs": [],
   "source": [
    "import os\n",
    "import glob\n",
    "import psycopg2\n",
    "import pandas as pd\n",
    "from sql_queries import *"
   ]
  },
  {
   "cell_type": "code",
   "execution_count": 2,
   "metadata": {
    "editable": true
   },
   "outputs": [],
   "source": [
    "conn = psycopg2.connect(\"host=127.0.0.1 dbname=sparkifydb user=student password=student\")\n",
    "cur = conn.cursor()"
   ]
  },
  {
   "cell_type": "code",
   "execution_count": 3,
   "metadata": {
    "editable": true
   },
   "outputs": [],
   "source": [
    "def get_files(filepath):\n",
    "    all_files = []\n",
    "    for root, dirs, files in os.walk(filepath):\n",
    "        files = glob.glob(os.path.join(root,'*.json'))\n",
    "        for f in files :\n",
    "            all_files.append(os.path.abspath(f))\n",
    "    \n",
    "    return all_files"
   ]
  },
  {
   "cell_type": "markdown",
   "metadata": {
    "editable": true
   },
   "source": [
    "# Process `song_data`\n",
    "In this first part, you'll perform ETL on the first dataset, `song_data`, to create the `songs` and `artists` dimensional tables.\n",
    "\n",
    "Let's perform ETL on a single song file and load a single record into each table to start.\n",
    "- Use the `get_files` function provided above to get a list of all song JSON files in `data/song_data`\n",
    "- Select the first song in this list\n",
    "- Read the song file and view the data"
   ]
  },
  {
   "cell_type": "code",
   "execution_count": 4,
   "metadata": {
    "editable": true
   },
   "outputs": [],
   "source": [
    "song_files = get_files('data/song_data')"
   ]
  },
  {
   "cell_type": "code",
   "execution_count": 5,
   "metadata": {
    "editable": true
   },
   "outputs": [],
   "source": [
    "filepath = song_files[0]"
   ]
  },
  {
   "cell_type": "code",
   "execution_count": 6,
   "metadata": {
    "editable": true
   },
   "outputs": [
    {
     "data": {
      "text/html": [
       "<div>\n",
       "<style scoped>\n",
       "    .dataframe tbody tr th:only-of-type {\n",
       "        vertical-align: middle;\n",
       "    }\n",
       "\n",
       "    .dataframe tbody tr th {\n",
       "        vertical-align: top;\n",
       "    }\n",
       "\n",
       "    .dataframe thead th {\n",
       "        text-align: right;\n",
       "    }\n",
       "</style>\n",
       "<table border=\"1\" class=\"dataframe\">\n",
       "  <thead>\n",
       "    <tr style=\"text-align: right;\">\n",
       "      <th></th>\n",
       "      <th>artist_id</th>\n",
       "      <th>artist_latitude</th>\n",
       "      <th>artist_location</th>\n",
       "      <th>artist_longitude</th>\n",
       "      <th>artist_name</th>\n",
       "      <th>duration</th>\n",
       "      <th>num_songs</th>\n",
       "      <th>song_id</th>\n",
       "      <th>title</th>\n",
       "      <th>year</th>\n",
       "    </tr>\n",
       "  </thead>\n",
       "  <tbody>\n",
       "    <tr>\n",
       "      <th>0</th>\n",
       "      <td>ARD7TVE1187B99BFB1</td>\n",
       "      <td>NaN</td>\n",
       "      <td>California - LA</td>\n",
       "      <td>NaN</td>\n",
       "      <td>Casual</td>\n",
       "      <td>218.93179</td>\n",
       "      <td>1</td>\n",
       "      <td>SOMZWCG12A8C13C480</td>\n",
       "      <td>I Didn't Mean To</td>\n",
       "      <td>0</td>\n",
       "    </tr>\n",
       "  </tbody>\n",
       "</table>\n",
       "</div>"
      ],
      "text/plain": [
       "            artist_id  artist_latitude  artist_location  artist_longitude  \\\n",
       "0  ARD7TVE1187B99BFB1              NaN  California - LA               NaN   \n",
       "\n",
       "  artist_name   duration  num_songs             song_id             title  \\\n",
       "0      Casual  218.93179          1  SOMZWCG12A8C13C480  I Didn't Mean To   \n",
       "\n",
       "   year  \n",
       "0     0  "
      ]
     },
     "execution_count": 6,
     "metadata": {},
     "output_type": "execute_result"
    }
   ],
   "source": [
    "df = pd.read_json(filepath, lines=True)\n",
    "df.head()"
   ]
  },
  {
   "cell_type": "markdown",
   "metadata": {
    "editable": true
   },
   "source": [
    "## #1: `songs` Table\n",
    "#### Extract Data for Songs Table\n",
    "- Select columns for song ID, title, artist ID, year, and duration\n",
    "- Use `df.values` to select just the values from the dataframe\n",
    "- Index to select the first (only) record in the dataframe\n",
    "- Convert the array to a list and set it to `song_data`"
   ]
  },
  {
   "cell_type": "code",
   "execution_count": 7,
   "metadata": {
    "editable": true
   },
   "outputs": [
    {
     "data": {
      "text/plain": [
       "['SOMZWCG12A8C13C480', \"I Didn't Mean To\", 'ARD7TVE1187B99BFB1', 0, 218.93179]"
      ]
     },
     "execution_count": 7,
     "metadata": {},
     "output_type": "execute_result"
    }
   ],
   "source": [
    "song_data = df[[\"song_id\", \"title\", \"artist_id\", \"year\", \"duration\"]]\n",
    "song_data = list(song_data.values[0])\n",
    "song_data"
   ]
  },
  {
   "cell_type": "markdown",
   "metadata": {
    "editable": true
   },
   "source": [
    "#### Insert Record into Song Table\n",
    "Implement the `song_table_insert` query in `sql_queries.py` and run the cell below to insert a record for this song into the `songs` table. Remember to run `create_tables.py` before running the cell below to ensure you've created/resetted the `songs` table in the sparkify database."
   ]
  },
  {
   "cell_type": "code",
   "execution_count": 8,
   "metadata": {
    "editable": true
   },
   "outputs": [],
   "source": [
    "cur.execute(song_table_insert, song_data)\n",
    "conn.commit()\n",
    "\n",
    "# song_table_insert"
   ]
  },
  {
   "cell_type": "markdown",
   "metadata": {
    "editable": true
   },
   "source": [
    "Run `test.ipynb` to see if you've successfully added a record to this table."
   ]
  },
  {
   "cell_type": "markdown",
   "metadata": {
    "editable": true
   },
   "source": [
    "## #2: `artists` Table\n",
    "#### Extract Data for Artists Table\n",
    "- Select columns for artist ID, name, location, latitude, and longitude\n",
    "- Use `df.values` to select just the values from the dataframe\n",
    "- Index to select the first (only) record in the dataframe\n",
    "- Convert the array to a list and set it to `artist_data`"
   ]
  },
  {
   "cell_type": "code",
   "execution_count": 9,
   "metadata": {
    "editable": true
   },
   "outputs": [
    {
     "data": {
      "text/plain": [
       "['ARD7TVE1187B99BFB1', 'Casual', 'California - LA', nan, nan]"
      ]
     },
     "execution_count": 9,
     "metadata": {},
     "output_type": "execute_result"
    }
   ],
   "source": [
    "artist_data = df[[\"artist_id\", \"artist_name\", \"artist_location\", \"artist_latitude\", \"artist_longitude\"]]\n",
    "artist_data = list(artist_data.values[0])\n",
    "artist_data"
   ]
  },
  {
   "cell_type": "markdown",
   "metadata": {
    "editable": true
   },
   "source": [
    "#### Insert Record into Artist Table\n",
    "Implement the `artist_table_insert` query in `sql_queries.py` and run the cell below to insert a record for this song's artist into the `artists` table. Remember to run `create_tables.py` before running the cell below to ensure you've created/resetted the `artists` table in the sparkify database."
   ]
  },
  {
   "cell_type": "code",
   "execution_count": 10,
   "metadata": {
    "editable": true
   },
   "outputs": [],
   "source": [
    "cur.execute(artist_table_insert, artist_data)\n",
    "conn.commit()"
   ]
  },
  {
   "cell_type": "markdown",
   "metadata": {
    "editable": true
   },
   "source": [
    "Run `test.ipynb` to see if you've successfully added a record to this table."
   ]
  },
  {
   "cell_type": "markdown",
   "metadata": {
    "editable": true
   },
   "source": [
    "# Process `log_data`\n",
    "In this part, you'll perform ETL on the second dataset, `log_data`, to create the `time` and `users` dimensional tables, as well as the `songplays` fact table.\n",
    "\n",
    "Let's perform ETL on a single log file and load a single record into each table.\n",
    "- Use the `get_files` function provided above to get a list of all log JSON files in `data/log_data`\n",
    "- Select the first log file in this list\n",
    "- Read the log file and view the data"
   ]
  },
  {
   "cell_type": "code",
   "execution_count": 11,
   "metadata": {
    "editable": true
   },
   "outputs": [],
   "source": [
    "log_files = get_files('data/log_data')"
   ]
  },
  {
   "cell_type": "code",
   "execution_count": 12,
   "metadata": {
    "editable": true
   },
   "outputs": [],
   "source": [
    "filepath = log_files[0]"
   ]
  },
  {
   "cell_type": "code",
   "execution_count": 13,
   "metadata": {
    "editable": true
   },
   "outputs": [
    {
     "data": {
      "text/html": [
       "<div>\n",
       "<style scoped>\n",
       "    .dataframe tbody tr th:only-of-type {\n",
       "        vertical-align: middle;\n",
       "    }\n",
       "\n",
       "    .dataframe tbody tr th {\n",
       "        vertical-align: top;\n",
       "    }\n",
       "\n",
       "    .dataframe thead th {\n",
       "        text-align: right;\n",
       "    }\n",
       "</style>\n",
       "<table border=\"1\" class=\"dataframe\">\n",
       "  <thead>\n",
       "    <tr style=\"text-align: right;\">\n",
       "      <th></th>\n",
       "      <th>artist</th>\n",
       "      <th>auth</th>\n",
       "      <th>firstName</th>\n",
       "      <th>gender</th>\n",
       "      <th>itemInSession</th>\n",
       "      <th>lastName</th>\n",
       "      <th>length</th>\n",
       "      <th>level</th>\n",
       "      <th>location</th>\n",
       "      <th>method</th>\n",
       "      <th>page</th>\n",
       "      <th>registration</th>\n",
       "      <th>sessionId</th>\n",
       "      <th>song</th>\n",
       "      <th>status</th>\n",
       "      <th>ts</th>\n",
       "      <th>userAgent</th>\n",
       "      <th>userId</th>\n",
       "    </tr>\n",
       "  </thead>\n",
       "  <tbody>\n",
       "    <tr>\n",
       "      <th>0</th>\n",
       "      <td>Stephen Lynch</td>\n",
       "      <td>Logged In</td>\n",
       "      <td>Jayden</td>\n",
       "      <td>M</td>\n",
       "      <td>0</td>\n",
       "      <td>Bell</td>\n",
       "      <td>182.85669</td>\n",
       "      <td>free</td>\n",
       "      <td>Dallas-Fort Worth-Arlington, TX</td>\n",
       "      <td>PUT</td>\n",
       "      <td>NextSong</td>\n",
       "      <td>1.540992e+12</td>\n",
       "      <td>829</td>\n",
       "      <td>Jim Henson's Dead</td>\n",
       "      <td>200</td>\n",
       "      <td>1543537327796</td>\n",
       "      <td>Mozilla/5.0 (compatible; MSIE 10.0; Windows NT...</td>\n",
       "      <td>91</td>\n",
       "    </tr>\n",
       "    <tr>\n",
       "      <th>1</th>\n",
       "      <td>Manowar</td>\n",
       "      <td>Logged In</td>\n",
       "      <td>Jacob</td>\n",
       "      <td>M</td>\n",
       "      <td>0</td>\n",
       "      <td>Klein</td>\n",
       "      <td>247.56200</td>\n",
       "      <td>paid</td>\n",
       "      <td>Tampa-St. Petersburg-Clearwater, FL</td>\n",
       "      <td>PUT</td>\n",
       "      <td>NextSong</td>\n",
       "      <td>1.540558e+12</td>\n",
       "      <td>1049</td>\n",
       "      <td>Shell Shock</td>\n",
       "      <td>200</td>\n",
       "      <td>1543540121796</td>\n",
       "      <td>\"Mozilla/5.0 (Macintosh; Intel Mac OS X 10_9_4...</td>\n",
       "      <td>73</td>\n",
       "    </tr>\n",
       "    <tr>\n",
       "      <th>2</th>\n",
       "      <td>Morcheeba</td>\n",
       "      <td>Logged In</td>\n",
       "      <td>Jacob</td>\n",
       "      <td>M</td>\n",
       "      <td>1</td>\n",
       "      <td>Klein</td>\n",
       "      <td>257.41016</td>\n",
       "      <td>paid</td>\n",
       "      <td>Tampa-St. Petersburg-Clearwater, FL</td>\n",
       "      <td>PUT</td>\n",
       "      <td>NextSong</td>\n",
       "      <td>1.540558e+12</td>\n",
       "      <td>1049</td>\n",
       "      <td>Women Lose Weight (Feat: Slick Rick)</td>\n",
       "      <td>200</td>\n",
       "      <td>1543540368796</td>\n",
       "      <td>\"Mozilla/5.0 (Macintosh; Intel Mac OS X 10_9_4...</td>\n",
       "      <td>73</td>\n",
       "    </tr>\n",
       "    <tr>\n",
       "      <th>3</th>\n",
       "      <td>Maroon 5</td>\n",
       "      <td>Logged In</td>\n",
       "      <td>Jacob</td>\n",
       "      <td>M</td>\n",
       "      <td>2</td>\n",
       "      <td>Klein</td>\n",
       "      <td>231.23546</td>\n",
       "      <td>paid</td>\n",
       "      <td>Tampa-St. Petersburg-Clearwater, FL</td>\n",
       "      <td>PUT</td>\n",
       "      <td>NextSong</td>\n",
       "      <td>1.540558e+12</td>\n",
       "      <td>1049</td>\n",
       "      <td>Won't Go Home Without You</td>\n",
       "      <td>200</td>\n",
       "      <td>1543540625796</td>\n",
       "      <td>\"Mozilla/5.0 (Macintosh; Intel Mac OS X 10_9_4...</td>\n",
       "      <td>73</td>\n",
       "    </tr>\n",
       "    <tr>\n",
       "      <th>4</th>\n",
       "      <td>Train</td>\n",
       "      <td>Logged In</td>\n",
       "      <td>Jacob</td>\n",
       "      <td>M</td>\n",
       "      <td>3</td>\n",
       "      <td>Klein</td>\n",
       "      <td>216.76363</td>\n",
       "      <td>paid</td>\n",
       "      <td>Tampa-St. Petersburg-Clearwater, FL</td>\n",
       "      <td>PUT</td>\n",
       "      <td>NextSong</td>\n",
       "      <td>1.540558e+12</td>\n",
       "      <td>1049</td>\n",
       "      <td>Hey_ Soul Sister</td>\n",
       "      <td>200</td>\n",
       "      <td>1543540856796</td>\n",
       "      <td>\"Mozilla/5.0 (Macintosh; Intel Mac OS X 10_9_4...</td>\n",
       "      <td>73</td>\n",
       "    </tr>\n",
       "  </tbody>\n",
       "</table>\n",
       "</div>"
      ],
      "text/plain": [
       "          artist       auth firstName gender  itemInSession lastName  \\\n",
       "0  Stephen Lynch  Logged In    Jayden      M              0     Bell   \n",
       "1        Manowar  Logged In     Jacob      M              0    Klein   \n",
       "2      Morcheeba  Logged In     Jacob      M              1    Klein   \n",
       "3       Maroon 5  Logged In     Jacob      M              2    Klein   \n",
       "4          Train  Logged In     Jacob      M              3    Klein   \n",
       "\n",
       "      length level                             location method      page  \\\n",
       "0  182.85669  free      Dallas-Fort Worth-Arlington, TX    PUT  NextSong   \n",
       "1  247.56200  paid  Tampa-St. Petersburg-Clearwater, FL    PUT  NextSong   \n",
       "2  257.41016  paid  Tampa-St. Petersburg-Clearwater, FL    PUT  NextSong   \n",
       "3  231.23546  paid  Tampa-St. Petersburg-Clearwater, FL    PUT  NextSong   \n",
       "4  216.76363  paid  Tampa-St. Petersburg-Clearwater, FL    PUT  NextSong   \n",
       "\n",
       "   registration  sessionId                                  song  status  \\\n",
       "0  1.540992e+12        829                     Jim Henson's Dead     200   \n",
       "1  1.540558e+12       1049                           Shell Shock     200   \n",
       "2  1.540558e+12       1049  Women Lose Weight (Feat: Slick Rick)     200   \n",
       "3  1.540558e+12       1049             Won't Go Home Without You     200   \n",
       "4  1.540558e+12       1049                      Hey_ Soul Sister     200   \n",
       "\n",
       "              ts                                          userAgent userId  \n",
       "0  1543537327796  Mozilla/5.0 (compatible; MSIE 10.0; Windows NT...     91  \n",
       "1  1543540121796  \"Mozilla/5.0 (Macintosh; Intel Mac OS X 10_9_4...     73  \n",
       "2  1543540368796  \"Mozilla/5.0 (Macintosh; Intel Mac OS X 10_9_4...     73  \n",
       "3  1543540625796  \"Mozilla/5.0 (Macintosh; Intel Mac OS X 10_9_4...     73  \n",
       "4  1543540856796  \"Mozilla/5.0 (Macintosh; Intel Mac OS X 10_9_4...     73  "
      ]
     },
     "execution_count": 13,
     "metadata": {},
     "output_type": "execute_result"
    }
   ],
   "source": [
    "df = pd.read_json(filepath, lines=True)\n",
    "df.head()"
   ]
  },
  {
   "cell_type": "markdown",
   "metadata": {
    "editable": true
   },
   "source": [
    "## #3: `time` Table\n",
    "#### Extract Data for Time Table\n",
    "- Filter records by `NextSong` action\n",
    "- Convert the `ts` timestamp column to datetime\n",
    "  - Hint: the current timestamp is in milliseconds\n",
    "- Extract the timestamp, hour, day, week of year, month, year, and weekday from the `ts` column and set `time_data` to a list containing these values in order\n",
    "  - Hint: use pandas' [`dt` attribute](https://pandas.pydata.org/pandas-docs/stable/reference/api/pandas.Series.dt.html) to access easily datetimelike properties.\n",
    "- Specify labels for these columns and set to `column_labels`\n",
    "- Create a dataframe, `time_df,` containing the time data for this file by combining `column_labels` and `time_data` into a dictionary and converting this into a dataframe"
   ]
  },
  {
   "cell_type": "code",
   "execution_count": 14,
   "metadata": {
    "editable": true
   },
   "outputs": [
    {
     "data": {
      "text/html": [
       "<div>\n",
       "<style scoped>\n",
       "    .dataframe tbody tr th:only-of-type {\n",
       "        vertical-align: middle;\n",
       "    }\n",
       "\n",
       "    .dataframe tbody tr th {\n",
       "        vertical-align: top;\n",
       "    }\n",
       "\n",
       "    .dataframe thead th {\n",
       "        text-align: right;\n",
       "    }\n",
       "</style>\n",
       "<table border=\"1\" class=\"dataframe\">\n",
       "  <thead>\n",
       "    <tr style=\"text-align: right;\">\n",
       "      <th></th>\n",
       "      <th>artist</th>\n",
       "      <th>auth</th>\n",
       "      <th>firstName</th>\n",
       "      <th>gender</th>\n",
       "      <th>itemInSession</th>\n",
       "      <th>lastName</th>\n",
       "      <th>length</th>\n",
       "      <th>level</th>\n",
       "      <th>location</th>\n",
       "      <th>method</th>\n",
       "      <th>page</th>\n",
       "      <th>registration</th>\n",
       "      <th>sessionId</th>\n",
       "      <th>song</th>\n",
       "      <th>status</th>\n",
       "      <th>ts</th>\n",
       "      <th>userAgent</th>\n",
       "      <th>userId</th>\n",
       "    </tr>\n",
       "  </thead>\n",
       "  <tbody>\n",
       "    <tr>\n",
       "      <th>0</th>\n",
       "      <td>Stephen Lynch</td>\n",
       "      <td>Logged In</td>\n",
       "      <td>Jayden</td>\n",
       "      <td>M</td>\n",
       "      <td>0</td>\n",
       "      <td>Bell</td>\n",
       "      <td>182.85669</td>\n",
       "      <td>free</td>\n",
       "      <td>Dallas-Fort Worth-Arlington, TX</td>\n",
       "      <td>PUT</td>\n",
       "      <td>NextSong</td>\n",
       "      <td>1.540992e+12</td>\n",
       "      <td>829</td>\n",
       "      <td>Jim Henson's Dead</td>\n",
       "      <td>200</td>\n",
       "      <td>1543537327796</td>\n",
       "      <td>Mozilla/5.0 (compatible; MSIE 10.0; Windows NT...</td>\n",
       "      <td>91</td>\n",
       "    </tr>\n",
       "    <tr>\n",
       "      <th>1</th>\n",
       "      <td>Manowar</td>\n",
       "      <td>Logged In</td>\n",
       "      <td>Jacob</td>\n",
       "      <td>M</td>\n",
       "      <td>0</td>\n",
       "      <td>Klein</td>\n",
       "      <td>247.56200</td>\n",
       "      <td>paid</td>\n",
       "      <td>Tampa-St. Petersburg-Clearwater, FL</td>\n",
       "      <td>PUT</td>\n",
       "      <td>NextSong</td>\n",
       "      <td>1.540558e+12</td>\n",
       "      <td>1049</td>\n",
       "      <td>Shell Shock</td>\n",
       "      <td>200</td>\n",
       "      <td>1543540121796</td>\n",
       "      <td>\"Mozilla/5.0 (Macintosh; Intel Mac OS X 10_9_4...</td>\n",
       "      <td>73</td>\n",
       "    </tr>\n",
       "    <tr>\n",
       "      <th>2</th>\n",
       "      <td>Morcheeba</td>\n",
       "      <td>Logged In</td>\n",
       "      <td>Jacob</td>\n",
       "      <td>M</td>\n",
       "      <td>1</td>\n",
       "      <td>Klein</td>\n",
       "      <td>257.41016</td>\n",
       "      <td>paid</td>\n",
       "      <td>Tampa-St. Petersburg-Clearwater, FL</td>\n",
       "      <td>PUT</td>\n",
       "      <td>NextSong</td>\n",
       "      <td>1.540558e+12</td>\n",
       "      <td>1049</td>\n",
       "      <td>Women Lose Weight (Feat: Slick Rick)</td>\n",
       "      <td>200</td>\n",
       "      <td>1543540368796</td>\n",
       "      <td>\"Mozilla/5.0 (Macintosh; Intel Mac OS X 10_9_4...</td>\n",
       "      <td>73</td>\n",
       "    </tr>\n",
       "    <tr>\n",
       "      <th>3</th>\n",
       "      <td>Maroon 5</td>\n",
       "      <td>Logged In</td>\n",
       "      <td>Jacob</td>\n",
       "      <td>M</td>\n",
       "      <td>2</td>\n",
       "      <td>Klein</td>\n",
       "      <td>231.23546</td>\n",
       "      <td>paid</td>\n",
       "      <td>Tampa-St. Petersburg-Clearwater, FL</td>\n",
       "      <td>PUT</td>\n",
       "      <td>NextSong</td>\n",
       "      <td>1.540558e+12</td>\n",
       "      <td>1049</td>\n",
       "      <td>Won't Go Home Without You</td>\n",
       "      <td>200</td>\n",
       "      <td>1543540625796</td>\n",
       "      <td>\"Mozilla/5.0 (Macintosh; Intel Mac OS X 10_9_4...</td>\n",
       "      <td>73</td>\n",
       "    </tr>\n",
       "    <tr>\n",
       "      <th>4</th>\n",
       "      <td>Train</td>\n",
       "      <td>Logged In</td>\n",
       "      <td>Jacob</td>\n",
       "      <td>M</td>\n",
       "      <td>3</td>\n",
       "      <td>Klein</td>\n",
       "      <td>216.76363</td>\n",
       "      <td>paid</td>\n",
       "      <td>Tampa-St. Petersburg-Clearwater, FL</td>\n",
       "      <td>PUT</td>\n",
       "      <td>NextSong</td>\n",
       "      <td>1.540558e+12</td>\n",
       "      <td>1049</td>\n",
       "      <td>Hey_ Soul Sister</td>\n",
       "      <td>200</td>\n",
       "      <td>1543540856796</td>\n",
       "      <td>\"Mozilla/5.0 (Macintosh; Intel Mac OS X 10_9_4...</td>\n",
       "      <td>73</td>\n",
       "    </tr>\n",
       "  </tbody>\n",
       "</table>\n",
       "</div>"
      ],
      "text/plain": [
       "          artist       auth firstName gender  itemInSession lastName  \\\n",
       "0  Stephen Lynch  Logged In    Jayden      M              0     Bell   \n",
       "1        Manowar  Logged In     Jacob      M              0    Klein   \n",
       "2      Morcheeba  Logged In     Jacob      M              1    Klein   \n",
       "3       Maroon 5  Logged In     Jacob      M              2    Klein   \n",
       "4          Train  Logged In     Jacob      M              3    Klein   \n",
       "\n",
       "      length level                             location method      page  \\\n",
       "0  182.85669  free      Dallas-Fort Worth-Arlington, TX    PUT  NextSong   \n",
       "1  247.56200  paid  Tampa-St. Petersburg-Clearwater, FL    PUT  NextSong   \n",
       "2  257.41016  paid  Tampa-St. Petersburg-Clearwater, FL    PUT  NextSong   \n",
       "3  231.23546  paid  Tampa-St. Petersburg-Clearwater, FL    PUT  NextSong   \n",
       "4  216.76363  paid  Tampa-St. Petersburg-Clearwater, FL    PUT  NextSong   \n",
       "\n",
       "   registration  sessionId                                  song  status  \\\n",
       "0  1.540992e+12        829                     Jim Henson's Dead     200   \n",
       "1  1.540558e+12       1049                           Shell Shock     200   \n",
       "2  1.540558e+12       1049  Women Lose Weight (Feat: Slick Rick)     200   \n",
       "3  1.540558e+12       1049             Won't Go Home Without You     200   \n",
       "4  1.540558e+12       1049                      Hey_ Soul Sister     200   \n",
       "\n",
       "              ts                                          userAgent userId  \n",
       "0  1543537327796  Mozilla/5.0 (compatible; MSIE 10.0; Windows NT...     91  \n",
       "1  1543540121796  \"Mozilla/5.0 (Macintosh; Intel Mac OS X 10_9_4...     73  \n",
       "2  1543540368796  \"Mozilla/5.0 (Macintosh; Intel Mac OS X 10_9_4...     73  \n",
       "3  1543540625796  \"Mozilla/5.0 (Macintosh; Intel Mac OS X 10_9_4...     73  \n",
       "4  1543540856796  \"Mozilla/5.0 (Macintosh; Intel Mac OS X 10_9_4...     73  "
      ]
     },
     "execution_count": 14,
     "metadata": {},
     "output_type": "execute_result"
    }
   ],
   "source": [
    "df = df[df['page'] == 'NextSong']\n",
    "df.head()"
   ]
  },
  {
   "cell_type": "code",
   "execution_count": 15,
   "metadata": {
    "editable": true
   },
   "outputs": [
    {
     "data": {
      "text/plain": [
       "0   2018-11-30 00:22:07.796\n",
       "1   2018-11-30 01:08:41.796\n",
       "2   2018-11-30 01:12:48.796\n",
       "3   2018-11-30 01:17:05.796\n",
       "4   2018-11-30 01:20:56.796\n",
       "Name: ts, dtype: datetime64[ns]"
      ]
     },
     "execution_count": 15,
     "metadata": {},
     "output_type": "execute_result"
    }
   ],
   "source": [
    "t = pd.to_datetime(df['ts'], unit='ms')\n",
    "t.head()"
   ]
  },
  {
   "cell_type": "code",
   "execution_count": 16,
   "metadata": {
    "editable": true
   },
   "outputs": [],
   "source": [
    "time_data = (df['ts'], t.dt.hour, t.dt.day, t.dt.weekofyear, t.dt.month, t.dt.year, t.dt.weekday)\n",
    "column_labels = ('start_time', 'hour', 'day', 'week', 'month', 'year', 'weekday')\n",
    "# time_data\n",
    "# list(time_data)"
   ]
  },
  {
   "cell_type": "code",
   "execution_count": 17,
   "metadata": {
    "editable": true
   },
   "outputs": [
    {
     "data": {
      "text/html": [
       "<div>\n",
       "<style scoped>\n",
       "    .dataframe tbody tr th:only-of-type {\n",
       "        vertical-align: middle;\n",
       "    }\n",
       "\n",
       "    .dataframe tbody tr th {\n",
       "        vertical-align: top;\n",
       "    }\n",
       "\n",
       "    .dataframe thead th {\n",
       "        text-align: right;\n",
       "    }\n",
       "</style>\n",
       "<table border=\"1\" class=\"dataframe\">\n",
       "  <thead>\n",
       "    <tr style=\"text-align: right;\">\n",
       "      <th></th>\n",
       "      <th>start_time</th>\n",
       "      <th>hour</th>\n",
       "      <th>day</th>\n",
       "      <th>week</th>\n",
       "      <th>month</th>\n",
       "      <th>year</th>\n",
       "      <th>weekday</th>\n",
       "    </tr>\n",
       "  </thead>\n",
       "  <tbody>\n",
       "    <tr>\n",
       "      <th>0</th>\n",
       "      <td>1543537327796</td>\n",
       "      <td>0</td>\n",
       "      <td>30</td>\n",
       "      <td>48</td>\n",
       "      <td>11</td>\n",
       "      <td>2018</td>\n",
       "      <td>4</td>\n",
       "    </tr>\n",
       "    <tr>\n",
       "      <th>1</th>\n",
       "      <td>1543540121796</td>\n",
       "      <td>1</td>\n",
       "      <td>30</td>\n",
       "      <td>48</td>\n",
       "      <td>11</td>\n",
       "      <td>2018</td>\n",
       "      <td>4</td>\n",
       "    </tr>\n",
       "    <tr>\n",
       "      <th>2</th>\n",
       "      <td>1543540368796</td>\n",
       "      <td>1</td>\n",
       "      <td>30</td>\n",
       "      <td>48</td>\n",
       "      <td>11</td>\n",
       "      <td>2018</td>\n",
       "      <td>4</td>\n",
       "    </tr>\n",
       "    <tr>\n",
       "      <th>3</th>\n",
       "      <td>1543540625796</td>\n",
       "      <td>1</td>\n",
       "      <td>30</td>\n",
       "      <td>48</td>\n",
       "      <td>11</td>\n",
       "      <td>2018</td>\n",
       "      <td>4</td>\n",
       "    </tr>\n",
       "    <tr>\n",
       "      <th>4</th>\n",
       "      <td>1543540856796</td>\n",
       "      <td>1</td>\n",
       "      <td>30</td>\n",
       "      <td>48</td>\n",
       "      <td>11</td>\n",
       "      <td>2018</td>\n",
       "      <td>4</td>\n",
       "    </tr>\n",
       "  </tbody>\n",
       "</table>\n",
       "</div>"
      ],
      "text/plain": [
       "      start_time  hour  day  week  month  year  weekday\n",
       "0  1543537327796     0   30    48     11  2018        4\n",
       "1  1543540121796     1   30    48     11  2018        4\n",
       "2  1543540368796     1   30    48     11  2018        4\n",
       "3  1543540625796     1   30    48     11  2018        4\n",
       "4  1543540856796     1   30    48     11  2018        4"
      ]
     },
     "execution_count": 17,
     "metadata": {},
     "output_type": "execute_result"
    }
   ],
   "source": [
    "time_df = pd.DataFrame(dict(zip(column_labels, time_data)))\n",
    "time_df.head()"
   ]
  },
  {
   "cell_type": "markdown",
   "metadata": {
    "editable": true
   },
   "source": [
    "#### Insert Records into Time Table\n",
    "Implement the `time_table_insert` query in `sql_queries.py` and run the cell below to insert records for the timestamps in this log file into the `time` table. Remember to run `create_tables.py` before running the cell below to ensure you've created/resetted the `time` table in the sparkify database."
   ]
  },
  {
   "cell_type": "code",
   "execution_count": 18,
   "metadata": {
    "editable": true
   },
   "outputs": [],
   "source": [
    "for i, row in time_df.iterrows():\n",
    "    cur.execute(time_table_insert, list(row))\n",
    "    conn.commit()"
   ]
  },
  {
   "cell_type": "markdown",
   "metadata": {
    "editable": true
   },
   "source": [
    "Run `test.ipynb` to see if you've successfully added records to this table."
   ]
  },
  {
   "cell_type": "markdown",
   "metadata": {
    "editable": true
   },
   "source": [
    "## #4: `users` Table\n",
    "#### Extract Data for Users Table\n",
    "- Select columns for user ID, first name, last name, gender and level and set to `user_df`"
   ]
  },
  {
   "cell_type": "code",
   "execution_count": 19,
   "metadata": {
    "editable": true
   },
   "outputs": [],
   "source": [
    "user_df = df[[\"userId\", \"firstName\", \"lastName\", \"gender\", \"level\"]]\n",
    "# user_df"
   ]
  },
  {
   "cell_type": "markdown",
   "metadata": {
    "editable": true
   },
   "source": [
    "#### Insert Records into Users Table\n",
    "Implement the `user_table_insert` query in `sql_queries.py` and run the cell below to insert records for the users in this log file into the `users` table. Remember to run `create_tables.py` before running the cell below to ensure you've created/resetted the `users` table in the sparkify database."
   ]
  },
  {
   "cell_type": "code",
   "execution_count": 20,
   "metadata": {
    "editable": true
   },
   "outputs": [],
   "source": [
    "for i, row in user_df.iterrows():\n",
    "    cur.execute(user_table_insert, row)\n",
    "    conn.commit()"
   ]
  },
  {
   "cell_type": "markdown",
   "metadata": {
    "editable": true
   },
   "source": [
    "Run `test.ipynb` to see if you've successfully added records to this table."
   ]
  },
  {
   "cell_type": "markdown",
   "metadata": {
    "editable": true
   },
   "source": [
    "## #5: `songplays` Table\n",
    "#### Extract Data and Songplays Table\n",
    "This one is a little more complicated since information from the songs table, artists table, and original log file are all needed for the `songplays` table. Since the log file does not specify an ID for either the song or the artist, you'll need to get the song ID and artist ID by querying the songs and artists tables to find matches based on song title, artist name, and song duration time.\n",
    "- Implement the `song_select` query in `sql_queries.py` to find the song ID and artist ID based on the title, artist name, and duration of a song.\n",
    "- Select the timestamp, user ID, level, song ID, artist ID, session ID, location, and user agent and set to `songplay_data`\n",
    "\n",
    "#### Insert Records into Songplays Table\n",
    "- Implement the `songplay_table_insert` query and run the cell below to insert records for the songplay actions in this log file into the `songplays` table. Remember to run `create_tables.py` before running the cell below to ensure you've created/resetted the `songplays` table in the sparkify database."
   ]
  },
  {
   "cell_type": "code",
   "execution_count": 21,
   "metadata": {
    "editable": true
   },
   "outputs": [
    {
     "name": "stdout",
     "output_type": "stream",
     "text": [
      "(1543537327796, '91', 'free', 'SOMZWCG12A8C13C480', 'ARD7TVE1187B99BFB1', 829, 'Dallas-Fort Worth-Arlington, TX', 'Mozilla/5.0 (compatible; MSIE 10.0; Windows NT 6.2; WOW64; Trident/6.0)')\n",
      "(1543540121796, '73', 'paid', 'SOMZWCG12A8C13C480', 'ARD7TVE1187B99BFB1', 1049, 'Tampa-St. Petersburg-Clearwater, FL', '\"Mozilla/5.0 (Macintosh; Intel Mac OS X 10_9_4) AppleWebKit/537.78.2 (KHTML, like Gecko) Version/7.0.6 Safari/537.78.2\"')\n",
      "(1543540368796, '73', 'paid', 'SOMZWCG12A8C13C480', 'ARD7TVE1187B99BFB1', 1049, 'Tampa-St. Petersburg-Clearwater, FL', '\"Mozilla/5.0 (Macintosh; Intel Mac OS X 10_9_4) AppleWebKit/537.78.2 (KHTML, like Gecko) Version/7.0.6 Safari/537.78.2\"')\n",
      "(1543540625796, '73', 'paid', 'SOMZWCG12A8C13C480', 'ARD7TVE1187B99BFB1', 1049, 'Tampa-St. Petersburg-Clearwater, FL', '\"Mozilla/5.0 (Macintosh; Intel Mac OS X 10_9_4) AppleWebKit/537.78.2 (KHTML, like Gecko) Version/7.0.6 Safari/537.78.2\"')\n",
      "(1543540856796, '73', 'paid', 'SOMZWCG12A8C13C480', 'ARD7TVE1187B99BFB1', 1049, 'Tampa-St. Petersburg-Clearwater, FL', '\"Mozilla/5.0 (Macintosh; Intel Mac OS X 10_9_4) AppleWebKit/537.78.2 (KHTML, like Gecko) Version/7.0.6 Safari/537.78.2\"')\n",
      "(1543541072796, '73', 'paid', 'SOMZWCG12A8C13C480', 'ARD7TVE1187B99BFB1', 1049, 'Tampa-St. Petersburg-Clearwater, FL', '\"Mozilla/5.0 (Macintosh; Intel Mac OS X 10_9_4) AppleWebKit/537.78.2 (KHTML, like Gecko) Version/7.0.6 Safari/537.78.2\"')\n",
      "(1543541299796, '73', 'paid', 'SOMZWCG12A8C13C480', 'ARD7TVE1187B99BFB1', 1049, 'Tampa-St. Petersburg-Clearwater, FL', '\"Mozilla/5.0 (Macintosh; Intel Mac OS X 10_9_4) AppleWebKit/537.78.2 (KHTML, like Gecko) Version/7.0.6 Safari/537.78.2\"')\n",
      "(1543541520796, '73', 'paid', 'SOMZWCG12A8C13C480', 'ARD7TVE1187B99BFB1', 1049, 'Tampa-St. Petersburg-Clearwater, FL', '\"Mozilla/5.0 (Macintosh; Intel Mac OS X 10_9_4) AppleWebKit/537.78.2 (KHTML, like Gecko) Version/7.0.6 Safari/537.78.2\"')\n",
      "(1543541897796, '73', 'paid', 'SOMZWCG12A8C13C480', 'ARD7TVE1187B99BFB1', 1049, 'Tampa-St. Petersburg-Clearwater, FL', '\"Mozilla/5.0 (Macintosh; Intel Mac OS X 10_9_4) AppleWebKit/537.78.2 (KHTML, like Gecko) Version/7.0.6 Safari/537.78.2\"')\n",
      "(1543541993796, '73', 'paid', 'SOMZWCG12A8C13C480', 'ARD7TVE1187B99BFB1', 1049, 'Tampa-St. Petersburg-Clearwater, FL', '\"Mozilla/5.0 (Macintosh; Intel Mac OS X 10_9_4) AppleWebKit/537.78.2 (KHTML, like Gecko) Version/7.0.6 Safari/537.78.2\"')\n",
      "(1543542250796, '73', 'paid', 'SOMZWCG12A8C13C480', 'ARD7TVE1187B99BFB1', 1049, 'Tampa-St. Petersburg-Clearwater, FL', '\"Mozilla/5.0 (Macintosh; Intel Mac OS X 10_9_4) AppleWebKit/537.78.2 (KHTML, like Gecko) Version/7.0.6 Safari/537.78.2\"')\n",
      "(1543542516796, '73', 'paid', 'SOMZWCG12A8C13C480', 'ARD7TVE1187B99BFB1', 1049, 'Tampa-St. Petersburg-Clearwater, FL', '\"Mozilla/5.0 (Macintosh; Intel Mac OS X 10_9_4) AppleWebKit/537.78.2 (KHTML, like Gecko) Version/7.0.6 Safari/537.78.2\"')\n",
      "(1543542628796, '73', 'paid', 'SOMZWCG12A8C13C480', 'ARD7TVE1187B99BFB1', 1049, 'Tampa-St. Petersburg-Clearwater, FL', '\"Mozilla/5.0 (Macintosh; Intel Mac OS X 10_9_4) AppleWebKit/537.78.2 (KHTML, like Gecko) Version/7.0.6 Safari/537.78.2\"')\n",
      "(1543542935796, '73', 'paid', 'SOMZWCG12A8C13C480', 'ARD7TVE1187B99BFB1', 1049, 'Tampa-St. Petersburg-Clearwater, FL', '\"Mozilla/5.0 (Macintosh; Intel Mac OS X 10_9_4) AppleWebKit/537.78.2 (KHTML, like Gecko) Version/7.0.6 Safari/537.78.2\"')\n",
      "(1543543268796, '73', 'paid', 'SOMZWCG12A8C13C480', 'ARD7TVE1187B99BFB1', 1049, 'Tampa-St. Petersburg-Clearwater, FL', '\"Mozilla/5.0 (Macintosh; Intel Mac OS X 10_9_4) AppleWebKit/537.78.2 (KHTML, like Gecko) Version/7.0.6 Safari/537.78.2\"')\n",
      "(1543543524796, '73', 'paid', 'SOMZWCG12A8C13C480', 'ARD7TVE1187B99BFB1', 1049, 'Tampa-St. Petersburg-Clearwater, FL', '\"Mozilla/5.0 (Macintosh; Intel Mac OS X 10_9_4) AppleWebKit/537.78.2 (KHTML, like Gecko) Version/7.0.6 Safari/537.78.2\"')\n",
      "(1543543821796, '73', 'paid', 'SOMZWCG12A8C13C480', 'ARD7TVE1187B99BFB1', 1049, 'Tampa-St. Petersburg-Clearwater, FL', '\"Mozilla/5.0 (Macintosh; Intel Mac OS X 10_9_4) AppleWebKit/537.78.2 (KHTML, like Gecko) Version/7.0.6 Safari/537.78.2\"')\n",
      "(1543544154796, '73', 'paid', 'SOMZWCG12A8C13C480', 'ARD7TVE1187B99BFB1', 1049, 'Tampa-St. Petersburg-Clearwater, FL', '\"Mozilla/5.0 (Macintosh; Intel Mac OS X 10_9_4) AppleWebKit/537.78.2 (KHTML, like Gecko) Version/7.0.6 Safari/537.78.2\"')\n",
      "(1543544359796, '73', 'paid', 'SOMZWCG12A8C13C480', 'ARD7TVE1187B99BFB1', 1049, 'Tampa-St. Petersburg-Clearwater, FL', '\"Mozilla/5.0 (Macintosh; Intel Mac OS X 10_9_4) AppleWebKit/537.78.2 (KHTML, like Gecko) Version/7.0.6 Safari/537.78.2\"')\n",
      "(1543547190796, '86', 'free', 'SOMZWCG12A8C13C480', 'ARD7TVE1187B99BFB1', 986, 'La Crosse-Onalaska, WI-MN', '\"Mozilla/5.0 (Macintosh; Intel Mac OS X 10_9_4) AppleWebKit/537.36 (KHTML, like Gecko) Chrome/37.0.2062.94 Safari/537.36\"')\n",
      "(1543547430796, '86', 'free', 'SOMZWCG12A8C13C480', 'ARD7TVE1187B99BFB1', 986, 'La Crosse-Onalaska, WI-MN', '\"Mozilla/5.0 (Macintosh; Intel Mac OS X 10_9_4) AppleWebKit/537.36 (KHTML, like Gecko) Chrome/37.0.2062.94 Safari/537.36\"')\n",
      "(1543547583796, '86', 'free', 'SOMZWCG12A8C13C480', 'ARD7TVE1187B99BFB1', 986, 'La Crosse-Onalaska, WI-MN', '\"Mozilla/5.0 (Macintosh; Intel Mac OS X 10_9_4) AppleWebKit/537.36 (KHTML, like Gecko) Chrome/37.0.2062.94 Safari/537.36\"')\n",
      "(1543547741796, '86', 'free', 'SOMZWCG12A8C13C480', 'ARD7TVE1187B99BFB1', 986, 'La Crosse-Onalaska, WI-MN', '\"Mozilla/5.0 (Macintosh; Intel Mac OS X 10_9_4) AppleWebKit/537.36 (KHTML, like Gecko) Chrome/37.0.2062.94 Safari/537.36\"')\n",
      "(1543548069796, '86', 'free', 'SOMZWCG12A8C13C480', 'ARD7TVE1187B99BFB1', 986, 'La Crosse-Onalaska, WI-MN', '\"Mozilla/5.0 (Macintosh; Intel Mac OS X 10_9_4) AppleWebKit/537.36 (KHTML, like Gecko) Chrome/37.0.2062.94 Safari/537.36\"')\n",
      "(1543548563796, '24', 'paid', 'SOMZWCG12A8C13C480', 'ARD7TVE1187B99BFB1', 1051, 'Lake Havasu City-Kingman, AZ', '\"Mozilla/5.0 (Windows NT 6.1; WOW64) AppleWebKit/537.36 (KHTML, like Gecko) Chrome/36.0.1985.125 Safari/537.36\"')\n",
      "(1543548766796, '24', 'paid', 'SOMZWCG12A8C13C480', 'ARD7TVE1187B99BFB1', 1051, 'Lake Havasu City-Kingman, AZ', '\"Mozilla/5.0 (Windows NT 6.1; WOW64) AppleWebKit/537.36 (KHTML, like Gecko) Chrome/36.0.1985.125 Safari/537.36\"')\n",
      "(1543549044796, '24', 'paid', 'SOMZWCG12A8C13C480', 'ARD7TVE1187B99BFB1', 1051, 'Lake Havasu City-Kingman, AZ', '\"Mozilla/5.0 (Windows NT 6.1; WOW64) AppleWebKit/537.36 (KHTML, like Gecko) Chrome/36.0.1985.125 Safari/537.36\"')\n",
      "(1543549171796, '24', 'paid', 'SOMZWCG12A8C13C480', 'ARD7TVE1187B99BFB1', 1051, 'Lake Havasu City-Kingman, AZ', '\"Mozilla/5.0 (Windows NT 6.1; WOW64) AppleWebKit/537.36 (KHTML, like Gecko) Chrome/36.0.1985.125 Safari/537.36\"')\n",
      "(1543549468796, '24', 'paid', 'SOMZWCG12A8C13C480', 'ARD7TVE1187B99BFB1', 1051, 'Lake Havasu City-Kingman, AZ', '\"Mozilla/5.0 (Windows NT 6.1; WOW64) AppleWebKit/537.36 (KHTML, like Gecko) Chrome/36.0.1985.125 Safari/537.36\"')\n",
      "(1543549790796, '24', 'paid', 'SOMZWCG12A8C13C480', 'ARD7TVE1187B99BFB1', 1051, 'Lake Havasu City-Kingman, AZ', '\"Mozilla/5.0 (Windows NT 6.1; WOW64) AppleWebKit/537.36 (KHTML, like Gecko) Chrome/36.0.1985.125 Safari/537.36\"')\n",
      "(1543550142796, '24', 'paid', 'SOMZWCG12A8C13C480', 'ARD7TVE1187B99BFB1', 1051, 'Lake Havasu City-Kingman, AZ', '\"Mozilla/5.0 (Windows NT 6.1; WOW64) AppleWebKit/537.36 (KHTML, like Gecko) Chrome/36.0.1985.125 Safari/537.36\"')\n",
      "(1543550301796, '26', 'free', 'SOMZWCG12A8C13C480', 'ARD7TVE1187B99BFB1', 1068, 'San Jose-Sunnyvale-Santa Clara, CA', '\"Mozilla/5.0 (X11; Linux x86_64) AppleWebKit/537.36 (KHTML, like Gecko) Ubuntu Chromium/36.0.1985.125 Chrome/36.0.1985.125 Safari/537.36\"')\n",
      "(1543550457796, '24', 'paid', 'SOMZWCG12A8C13C480', 'ARD7TVE1187B99BFB1', 1051, 'Lake Havasu City-Kingman, AZ', '\"Mozilla/5.0 (Windows NT 6.1; WOW64) AppleWebKit/537.36 (KHTML, like Gecko) Chrome/36.0.1985.125 Safari/537.36\"')\n",
      "(1543550653796, '26', 'free', 'SOMZWCG12A8C13C480', 'ARD7TVE1187B99BFB1', 1068, 'San Jose-Sunnyvale-Santa Clara, CA', '\"Mozilla/5.0 (X11; Linux x86_64) AppleWebKit/537.36 (KHTML, like Gecko) Ubuntu Chromium/36.0.1985.125 Chrome/36.0.1985.125 Safari/537.36\"')\n",
      "(1543550761796, '24', 'paid', 'SOMZWCG12A8C13C480', 'ARD7TVE1187B99BFB1', 1051, 'Lake Havasu City-Kingman, AZ', '\"Mozilla/5.0 (Windows NT 6.1; WOW64) AppleWebKit/537.36 (KHTML, like Gecko) Chrome/36.0.1985.125 Safari/537.36\"')\n",
      "(1543550960796, '26', 'free', 'SOMZWCG12A8C13C480', 'ARD7TVE1187B99BFB1', 1068, 'San Jose-Sunnyvale-Santa Clara, CA', '\"Mozilla/5.0 (X11; Linux x86_64) AppleWebKit/537.36 (KHTML, like Gecko) Ubuntu Chromium/36.0.1985.125 Chrome/36.0.1985.125 Safari/537.36\"')\n",
      "(1543551178796, '24', 'paid', 'SOMZWCG12A8C13C480', 'ARD7TVE1187B99BFB1', 1051, 'Lake Havasu City-Kingman, AZ', '\"Mozilla/5.0 (Windows NT 6.1; WOW64) AppleWebKit/537.36 (KHTML, like Gecko) Chrome/36.0.1985.125 Safari/537.36\"')\n",
      "(1543551187796, '26', 'free', 'SOMZWCG12A8C13C480', 'ARD7TVE1187B99BFB1', 1068, 'San Jose-Sunnyvale-Santa Clara, CA', '\"Mozilla/5.0 (X11; Linux x86_64) AppleWebKit/537.36 (KHTML, like Gecko) Ubuntu Chromium/36.0.1985.125 Chrome/36.0.1985.125 Safari/537.36\"')\n",
      "(1543551430796, '24', 'paid', 'SOMZWCG12A8C13C480', 'ARD7TVE1187B99BFB1', 1051, 'Lake Havasu City-Kingman, AZ', '\"Mozilla/5.0 (Windows NT 6.1; WOW64) AppleWebKit/537.36 (KHTML, like Gecko) Chrome/36.0.1985.125 Safari/537.36\"')\n",
      "(1543551632796, '24', 'paid', 'SOMZWCG12A8C13C480', 'ARD7TVE1187B99BFB1', 1051, 'Lake Havasu City-Kingman, AZ', '\"Mozilla/5.0 (Windows NT 6.1; WOW64) AppleWebKit/537.36 (KHTML, like Gecko) Chrome/36.0.1985.125 Safari/537.36\"')\n",
      "(1543551680796, '26', 'free', 'SOMZWCG12A8C13C480', 'ARD7TVE1187B99BFB1', 1068, 'San Jose-Sunnyvale-Santa Clara, CA', '\"Mozilla/5.0 (X11; Linux x86_64) AppleWebKit/537.36 (KHTML, like Gecko) Ubuntu Chromium/36.0.1985.125 Chrome/36.0.1985.125 Safari/537.36\"')\n",
      "(1543551811796, '24', 'paid', 'SOMZWCG12A8C13C480', 'ARD7TVE1187B99BFB1', 1051, 'Lake Havasu City-Kingman, AZ', '\"Mozilla/5.0 (Windows NT 6.1; WOW64) AppleWebKit/537.36 (KHTML, like Gecko) Chrome/36.0.1985.125 Safari/537.36\"')\n",
      "(1543551890796, '26', 'free', 'SOMZWCG12A8C13C480', 'ARD7TVE1187B99BFB1', 1068, 'San Jose-Sunnyvale-Santa Clara, CA', '\"Mozilla/5.0 (X11; Linux x86_64) AppleWebKit/537.36 (KHTML, like Gecko) Ubuntu Chromium/36.0.1985.125 Chrome/36.0.1985.125 Safari/537.36\"')\n",
      "(1543552009796, '24', 'paid', 'SOMZWCG12A8C13C480', 'ARD7TVE1187B99BFB1', 1051, 'Lake Havasu City-Kingman, AZ', '\"Mozilla/5.0 (Windows NT 6.1; WOW64) AppleWebKit/537.36 (KHTML, like Gecko) Chrome/36.0.1985.125 Safari/537.36\"')\n",
      "(1543552034796, '26', 'free', 'SOMZWCG12A8C13C480', 'ARD7TVE1187B99BFB1', 1068, 'San Jose-Sunnyvale-Santa Clara, CA', '\"Mozilla/5.0 (X11; Linux x86_64) AppleWebKit/537.36 (KHTML, like Gecko) Ubuntu Chromium/36.0.1985.125 Chrome/36.0.1985.125 Safari/537.36\"')\n",
      "(1543552268796, '24', 'paid', 'SOMZWCG12A8C13C480', 'ARD7TVE1187B99BFB1', 1051, 'Lake Havasu City-Kingman, AZ', '\"Mozilla/5.0 (Windows NT 6.1; WOW64) AppleWebKit/537.36 (KHTML, like Gecko) Chrome/36.0.1985.125 Safari/537.36\"')\n",
      "(1543552322796, '26', 'free', 'SOMZWCG12A8C13C480', 'ARD7TVE1187B99BFB1', 1068, 'San Jose-Sunnyvale-Santa Clara, CA', '\"Mozilla/5.0 (X11; Linux x86_64) AppleWebKit/537.36 (KHTML, like Gecko) Ubuntu Chromium/36.0.1985.125 Chrome/36.0.1985.125 Safari/537.36\"')\n",
      "(1543552590796, '26', 'free', 'SOMZWCG12A8C13C480', 'ARD7TVE1187B99BFB1', 1068, 'San Jose-Sunnyvale-Santa Clara, CA', '\"Mozilla/5.0 (X11; Linux x86_64) AppleWebKit/537.36 (KHTML, like Gecko) Ubuntu Chromium/36.0.1985.125 Chrome/36.0.1985.125 Safari/537.36\"')\n",
      "(1543552925796, '49', 'paid', 'SOMZWCG12A8C13C480', 'ARD7TVE1187B99BFB1', 1079, 'San Francisco-Oakland-Hayward, CA', 'Mozilla/5.0 (Windows NT 5.1; rv:31.0) Gecko/20100101 Firefox/31.0')\n",
      "(1543553163796, '49', 'paid', 'SOMZWCG12A8C13C480', 'ARD7TVE1187B99BFB1', 1079, 'San Francisco-Oakland-Hayward, CA', 'Mozilla/5.0 (Windows NT 5.1; rv:31.0) Gecko/20100101 Firefox/31.0')\n",
      "(1543553509796, '49', 'paid', 'SOMZWCG12A8C13C480', 'ARD7TVE1187B99BFB1', 1079, 'San Francisco-Oakland-Hayward, CA', 'Mozilla/5.0 (Windows NT 5.1; rv:31.0) Gecko/20100101 Firefox/31.0')\n",
      "(1543553771796, '57', 'free', 'SOMZWCG12A8C13C480', 'ARD7TVE1187B99BFB1', 1020, 'San Antonio-New Braunfels, TX', '\"Mozilla/5.0 (Macintosh; Intel Mac OS X 10_6_8) AppleWebKit/534.59.10 (KHTML, like Gecko) Version/5.1.9 Safari/534.59.10\"')\n",
      "(1543553823796, '49', 'paid', 'SOMZWCG12A8C13C480', 'ARD7TVE1187B99BFB1', 1079, 'San Francisco-Oakland-Hayward, CA', 'Mozilla/5.0 (Windows NT 5.1; rv:31.0) Gecko/20100101 Firefox/31.0')\n",
      "(1543554186796, '49', 'paid', 'SOMZWCG12A8C13C480', 'ARD7TVE1187B99BFB1', 1079, 'San Francisco-Oakland-Hayward, CA', 'Mozilla/5.0 (Windows NT 5.1; rv:31.0) Gecko/20100101 Firefox/31.0')\n",
      "(1543554392796, '49', 'paid', 'SOMZWCG12A8C13C480', 'ARD7TVE1187B99BFB1', 1079, 'San Francisco-Oakland-Hayward, CA', 'Mozilla/5.0 (Windows NT 5.1; rv:31.0) Gecko/20100101 Firefox/31.0')\n",
      "(1543554669796, '49', 'paid', 'SOMZWCG12A8C13C480', 'ARD7TVE1187B99BFB1', 1079, 'San Francisco-Oakland-Hayward, CA', 'Mozilla/5.0 (Windows NT 5.1; rv:31.0) Gecko/20100101 Firefox/31.0')\n",
      "(1543554740796, '30', 'paid', 'SOMZWCG12A8C13C480', 'ARD7TVE1187B99BFB1', 884, 'San Jose-Sunnyvale-Santa Clara, CA', 'Mozilla/5.0 (Windows NT 6.1; WOW64; rv:31.0) Gecko/20100101 Firefox/31.0')\n",
      "(1543554912796, '49', 'paid', 'SOMZWCG12A8C13C480', 'ARD7TVE1187B99BFB1', 1079, 'San Francisco-Oakland-Hayward, CA', 'Mozilla/5.0 (Windows NT 5.1; rv:31.0) Gecko/20100101 Firefox/31.0')\n",
      "(1543555014796, '30', 'paid', 'SOMZWCG12A8C13C480', 'ARD7TVE1187B99BFB1', 884, 'San Jose-Sunnyvale-Santa Clara, CA', 'Mozilla/5.0 (Windows NT 6.1; WOW64; rv:31.0) Gecko/20100101 Firefox/31.0')\n",
      "(1543555175796, '49', 'paid', 'SOMZWCG12A8C13C480', 'ARD7TVE1187B99BFB1', 1079, 'San Francisco-Oakland-Hayward, CA', 'Mozilla/5.0 (Windows NT 5.1; rv:31.0) Gecko/20100101 Firefox/31.0')\n",
      "(1543555254796, '30', 'paid', 'SOMZWCG12A8C13C480', 'ARD7TVE1187B99BFB1', 884, 'San Jose-Sunnyvale-Santa Clara, CA', 'Mozilla/5.0 (Windows NT 6.1; WOW64; rv:31.0) Gecko/20100101 Firefox/31.0')\n",
      "(1543555414796, '49', 'paid', 'SOMZWCG12A8C13C480', 'ARD7TVE1187B99BFB1', 1079, 'San Francisco-Oakland-Hayward, CA', 'Mozilla/5.0 (Windows NT 5.1; rv:31.0) Gecko/20100101 Firefox/31.0')\n",
      "(1543555485796, '30', 'paid', 'SOMZWCG12A8C13C480', 'ARD7TVE1187B99BFB1', 884, 'San Jose-Sunnyvale-Santa Clara, CA', 'Mozilla/5.0 (Windows NT 6.1; WOW64; rv:31.0) Gecko/20100101 Firefox/31.0')\n",
      "(1543555708796, '49', 'paid', 'SOMZWCG12A8C13C480', 'ARD7TVE1187B99BFB1', 1079, 'San Francisco-Oakland-Hayward, CA', 'Mozilla/5.0 (Windows NT 5.1; rv:31.0) Gecko/20100101 Firefox/31.0')\n",
      "(1543555744796, '30', 'paid', 'SOMZWCG12A8C13C480', 'ARD7TVE1187B99BFB1', 884, 'San Jose-Sunnyvale-Santa Clara, CA', 'Mozilla/5.0 (Windows NT 6.1; WOW64; rv:31.0) Gecko/20100101 Firefox/31.0')\n",
      "(1543555885796, '92', 'free', 'SOMZWCG12A8C13C480', 'ARD7TVE1187B99BFB1', 1006, 'Palestine, TX', 'Mozilla/5.0 (Macintosh; Intel Mac OS X 10.9; rv:31.0) Gecko/20100101 Firefox/31.0')\n",
      "(1543555904796, '49', 'paid', 'SOMZWCG12A8C13C480', 'ARD7TVE1187B99BFB1', 1079, 'San Francisco-Oakland-Hayward, CA', 'Mozilla/5.0 (Windows NT 5.1; rv:31.0) Gecko/20100101 Firefox/31.0')\n",
      "(1543555967796, '30', 'paid', 'SOMZWCG12A8C13C480', 'ARD7TVE1187B99BFB1', 884, 'San Jose-Sunnyvale-Santa Clara, CA', 'Mozilla/5.0 (Windows NT 6.1; WOW64; rv:31.0) Gecko/20100101 Firefox/31.0')\n",
      "(1543556163796, '30', 'paid', 'SOMZWCG12A8C13C480', 'ARD7TVE1187B99BFB1', 884, 'San Jose-Sunnyvale-Santa Clara, CA', 'Mozilla/5.0 (Windows NT 6.1; WOW64; rv:31.0) Gecko/20100101 Firefox/31.0')\n",
      "(1543556205796, '49', 'paid', 'SOMZWCG12A8C13C480', 'ARD7TVE1187B99BFB1', 1079, 'San Francisco-Oakland-Hayward, CA', 'Mozilla/5.0 (Windows NT 5.1; rv:31.0) Gecko/20100101 Firefox/31.0')\n",
      "(1543556379796, '30', 'paid', 'SOMZWCG12A8C13C480', 'ARD7TVE1187B99BFB1', 884, 'San Jose-Sunnyvale-Santa Clara, CA', 'Mozilla/5.0 (Windows NT 6.1; WOW64; rv:31.0) Gecko/20100101 Firefox/31.0')\n",
      "(1543556431796, '49', 'paid', 'SOMZWCG12A8C13C480', 'ARD7TVE1187B99BFB1', 1079, 'San Francisco-Oakland-Hayward, CA', 'Mozilla/5.0 (Windows NT 5.1; rv:31.0) Gecko/20100101 Firefox/31.0')\n",
      "(1543556584796, '30', 'paid', 'SOMZWCG12A8C13C480', 'ARD7TVE1187B99BFB1', 884, 'San Jose-Sunnyvale-Santa Clara, CA', 'Mozilla/5.0 (Windows NT 6.1; WOW64; rv:31.0) Gecko/20100101 Firefox/31.0')\n",
      "(1543556636796, '49', 'paid', 'SOMZWCG12A8C13C480', 'ARD7TVE1187B99BFB1', 1079, 'San Francisco-Oakland-Hayward, CA', 'Mozilla/5.0 (Windows NT 5.1; rv:31.0) Gecko/20100101 Firefox/31.0')\n",
      "(1543556761796, '30', 'paid', 'SOMZWCG12A8C13C480', 'ARD7TVE1187B99BFB1', 884, 'San Jose-Sunnyvale-Santa Clara, CA', 'Mozilla/5.0 (Windows NT 6.1; WOW64; rv:31.0) Gecko/20100101 Firefox/31.0')\n",
      "(1543556936796, '49', 'paid', 'SOMZWCG12A8C13C480', 'ARD7TVE1187B99BFB1', 1079, 'San Francisco-Oakland-Hayward, CA', 'Mozilla/5.0 (Windows NT 5.1; rv:31.0) Gecko/20100101 Firefox/31.0')\n",
      "(1543557007796, '30', 'paid', 'SOMZWCG12A8C13C480', 'ARD7TVE1187B99BFB1', 884, 'San Jose-Sunnyvale-Santa Clara, CA', 'Mozilla/5.0 (Windows NT 6.1; WOW64; rv:31.0) Gecko/20100101 Firefox/31.0')\n",
      "(1543557259796, '30', 'paid', 'SOMZWCG12A8C13C480', 'ARD7TVE1187B99BFB1', 884, 'San Jose-Sunnyvale-Santa Clara, CA', 'Mozilla/5.0 (Windows NT 6.1; WOW64; rv:31.0) Gecko/20100101 Firefox/31.0')\n",
      "(1543557431796, '49', 'paid', 'SOMZWCG12A8C13C480', 'ARD7TVE1187B99BFB1', 1079, 'San Francisco-Oakland-Hayward, CA', 'Mozilla/5.0 (Windows NT 5.1; rv:31.0) Gecko/20100101 Firefox/31.0')\n",
      "(1543557481796, '30', 'paid', 'SOMZWCG12A8C13C480', 'ARD7TVE1187B99BFB1', 884, 'San Jose-Sunnyvale-Santa Clara, CA', 'Mozilla/5.0 (Windows NT 6.1; WOW64; rv:31.0) Gecko/20100101 Firefox/31.0')\n",
      "(1543557700796, '49', 'paid', 'SOMZWCG12A8C13C480', 'ARD7TVE1187B99BFB1', 1079, 'San Francisco-Oakland-Hayward, CA', 'Mozilla/5.0 (Windows NT 5.1; rv:31.0) Gecko/20100101 Firefox/31.0')\n",
      "(1543557890796, '30', 'paid', 'SOMZWCG12A8C13C480', 'ARD7TVE1187B99BFB1', 884, 'San Jose-Sunnyvale-Santa Clara, CA', 'Mozilla/5.0 (Windows NT 6.1; WOW64; rv:31.0) Gecko/20100101 Firefox/31.0')\n",
      "(1543557895796, '49', 'paid', 'SOMZWCG12A8C13C480', 'ARD7TVE1187B99BFB1', 1079, 'San Francisco-Oakland-Hayward, CA', 'Mozilla/5.0 (Windows NT 5.1; rv:31.0) Gecko/20100101 Firefox/31.0')\n",
      "(1543558077796, '30', 'paid', 'SOMZWCG12A8C13C480', 'ARD7TVE1187B99BFB1', 884, 'San Jose-Sunnyvale-Santa Clara, CA', 'Mozilla/5.0 (Windows NT 6.1; WOW64; rv:31.0) Gecko/20100101 Firefox/31.0')\n",
      "(1543558218796, '49', 'paid', 'SOMZWCG12A8C13C480', 'ARD7TVE1187B99BFB1', 1079, 'San Francisco-Oakland-Hayward, CA', 'Mozilla/5.0 (Windows NT 5.1; rv:31.0) Gecko/20100101 Firefox/31.0')\n",
      "(1543558374796, '30', 'paid', 'SOMZWCG12A8C13C480', 'ARD7TVE1187B99BFB1', 884, 'San Jose-Sunnyvale-Santa Clara, CA', 'Mozilla/5.0 (Windows NT 6.1; WOW64; rv:31.0) Gecko/20100101 Firefox/31.0')\n",
      "(1543558403796, '49', 'paid', 'SOMZWCG12A8C13C480', 'ARD7TVE1187B99BFB1', 1079, 'San Francisco-Oakland-Hayward, CA', 'Mozilla/5.0 (Windows NT 5.1; rv:31.0) Gecko/20100101 Firefox/31.0')\n",
      "(1543558442796, '30', 'paid', 'SOMZWCG12A8C13C480', 'ARD7TVE1187B99BFB1', 884, 'San Jose-Sunnyvale-Santa Clara, CA', 'Mozilla/5.0 (Windows NT 6.1; WOW64; rv:31.0) Gecko/20100101 Firefox/31.0')\n",
      "(1543558595796, '49', 'paid', 'SOMZWCG12A8C13C480', 'ARD7TVE1187B99BFB1', 1079, 'San Francisco-Oakland-Hayward, CA', 'Mozilla/5.0 (Windows NT 5.1; rv:31.0) Gecko/20100101 Firefox/31.0')\n",
      "(1543558708796, '30', 'paid', 'SOMZWCG12A8C13C480', 'ARD7TVE1187B99BFB1', 884, 'San Jose-Sunnyvale-Santa Clara, CA', 'Mozilla/5.0 (Windows NT 6.1; WOW64; rv:31.0) Gecko/20100101 Firefox/31.0')\n",
      "(1543558891796, '49', 'paid', 'SOMZWCG12A8C13C480', 'ARD7TVE1187B99BFB1', 1079, 'San Francisco-Oakland-Hayward, CA', 'Mozilla/5.0 (Windows NT 5.1; rv:31.0) Gecko/20100101 Firefox/31.0')\n",
      "(1543559185796, '49', 'paid', 'SOMZWCG12A8C13C480', 'ARD7TVE1187B99BFB1', 1079, 'San Francisco-Oakland-Hayward, CA', 'Mozilla/5.0 (Windows NT 5.1; rv:31.0) Gecko/20100101 Firefox/31.0')\n",
      "(1543559435796, '49', 'paid', 'SOMZWCG12A8C13C480', 'ARD7TVE1187B99BFB1', 1079, 'San Francisco-Oakland-Hayward, CA', 'Mozilla/5.0 (Windows NT 5.1; rv:31.0) Gecko/20100101 Firefox/31.0')\n",
      "(1543559636796, '49', 'paid', 'SOMZWCG12A8C13C480', 'ARD7TVE1187B99BFB1', 1079, 'San Francisco-Oakland-Hayward, CA', 'Mozilla/5.0 (Windows NT 5.1; rv:31.0) Gecko/20100101 Firefox/31.0')\n",
      "(1543559834796, '49', 'paid', 'SOMZWCG12A8C13C480', 'ARD7TVE1187B99BFB1', 1079, 'San Francisco-Oakland-Hayward, CA', 'Mozilla/5.0 (Windows NT 5.1; rv:31.0) Gecko/20100101 Firefox/31.0')\n",
      "(1543560047796, '49', 'paid', 'SOMZWCG12A8C13C480', 'ARD7TVE1187B99BFB1', 1079, 'San Francisco-Oakland-Hayward, CA', 'Mozilla/5.0 (Windows NT 5.1; rv:31.0) Gecko/20100101 Firefox/31.0')\n",
      "(1543560267796, '49', 'paid', 'SOMZWCG12A8C13C480', 'ARD7TVE1187B99BFB1', 1079, 'San Francisco-Oakland-Hayward, CA', 'Mozilla/5.0 (Windows NT 5.1; rv:31.0) Gecko/20100101 Firefox/31.0')\n",
      "(1543560508796, '49', 'paid', 'SOMZWCG12A8C13C480', 'ARD7TVE1187B99BFB1', 1079, 'San Francisco-Oakland-Hayward, CA', 'Mozilla/5.0 (Windows NT 5.1; rv:31.0) Gecko/20100101 Firefox/31.0')\n",
      "(1543560751796, '49', 'paid', 'SOMZWCG12A8C13C480', 'ARD7TVE1187B99BFB1', 1079, 'San Francisco-Oakland-Hayward, CA', 'Mozilla/5.0 (Windows NT 5.1; rv:31.0) Gecko/20100101 Firefox/31.0')\n",
      "(1543560882796, '49', 'paid', 'SOMZWCG12A8C13C480', 'ARD7TVE1187B99BFB1', 1079, 'San Francisco-Oakland-Hayward, CA', 'Mozilla/5.0 (Windows NT 5.1; rv:31.0) Gecko/20100101 Firefox/31.0')\n",
      "(1543561118796, '49', 'paid', 'SOMZWCG12A8C13C480', 'ARD7TVE1187B99BFB1', 1079, 'San Francisco-Oakland-Hayward, CA', 'Mozilla/5.0 (Windows NT 5.1; rv:31.0) Gecko/20100101 Firefox/31.0')\n",
      "(1543561343796, '49', 'paid', 'SOMZWCG12A8C13C480', 'ARD7TVE1187B99BFB1', 1079, 'San Francisco-Oakland-Hayward, CA', 'Mozilla/5.0 (Windows NT 5.1; rv:31.0) Gecko/20100101 Firefox/31.0')\n",
      "(1543561715796, '49', 'paid', 'SOMZWCG12A8C13C480', 'ARD7TVE1187B99BFB1', 1079, 'San Francisco-Oakland-Hayward, CA', 'Mozilla/5.0 (Windows NT 5.1; rv:31.0) Gecko/20100101 Firefox/31.0')\n",
      "(1543562124796, '49', 'paid', 'SOMZWCG12A8C13C480', 'ARD7TVE1187B99BFB1', 1079, 'San Francisco-Oakland-Hayward, CA', 'Mozilla/5.0 (Windows NT 5.1; rv:31.0) Gecko/20100101 Firefox/31.0')\n",
      "(1543562311796, '49', 'paid', 'SOMZWCG12A8C13C480', 'ARD7TVE1187B99BFB1', 1079, 'San Francisco-Oakland-Hayward, CA', 'Mozilla/5.0 (Windows NT 5.1; rv:31.0) Gecko/20100101 Firefox/31.0')\n",
      "(1543562532796, '49', 'paid', 'SOMZWCG12A8C13C480', 'ARD7TVE1187B99BFB1', 1079, 'San Francisco-Oakland-Hayward, CA', 'Mozilla/5.0 (Windows NT 5.1; rv:31.0) Gecko/20100101 Firefox/31.0')\n",
      "(1543562685796, '49', 'paid', 'SOMZWCG12A8C13C480', 'ARD7TVE1187B99BFB1', 1079, 'San Francisco-Oakland-Hayward, CA', 'Mozilla/5.0 (Windows NT 5.1; rv:31.0) Gecko/20100101 Firefox/31.0')\n",
      "(1543562909796, '49', 'paid', 'SOMZWCG12A8C13C480', 'ARD7TVE1187B99BFB1', 1079, 'San Francisco-Oakland-Hayward, CA', 'Mozilla/5.0 (Windows NT 5.1; rv:31.0) Gecko/20100101 Firefox/31.0')\n",
      "(1543562949796, '74', 'free', 'SOMZWCG12A8C13C480', 'ARD7TVE1187B99BFB1', 1082, 'Youngstown-Warren-Boardman, OH-PA', '\"Mozilla/5.0 (Windows NT 6.1; WOW64) AppleWebKit/537.36 (KHTML, like Gecko) Chrome/36.0.1985.143 Safari/537.36\"')\n",
      "(1543563099796, '49', 'paid', 'SOMZWCG12A8C13C480', 'ARD7TVE1187B99BFB1', 1079, 'San Francisco-Oakland-Hayward, CA', 'Mozilla/5.0 (Windows NT 5.1; rv:31.0) Gecko/20100101 Firefox/31.0')\n",
      "(1543563383796, '49', 'paid', 'SOMZWCG12A8C13C480', 'ARD7TVE1187B99BFB1', 1079, 'San Francisco-Oakland-Hayward, CA', 'Mozilla/5.0 (Windows NT 5.1; rv:31.0) Gecko/20100101 Firefox/31.0')\n",
      "(1543563531796, '49', 'paid', 'SOMZWCG12A8C13C480', 'ARD7TVE1187B99BFB1', 1079, 'San Francisco-Oakland-Hayward, CA', 'Mozilla/5.0 (Windows NT 5.1; rv:31.0) Gecko/20100101 Firefox/31.0')\n",
      "(1543563757796, '49', 'paid', 'SOMZWCG12A8C13C480', 'ARD7TVE1187B99BFB1', 1079, 'San Francisco-Oakland-Hayward, CA', 'Mozilla/5.0 (Windows NT 5.1; rv:31.0) Gecko/20100101 Firefox/31.0')\n",
      "(1543564025796, '49', 'paid', 'SOMZWCG12A8C13C480', 'ARD7TVE1187B99BFB1', 1079, 'San Francisco-Oakland-Hayward, CA', 'Mozilla/5.0 (Windows NT 5.1; rv:31.0) Gecko/20100101 Firefox/31.0')\n",
      "(1543564194796, '49', 'paid', 'SOMZWCG12A8C13C480', 'ARD7TVE1187B99BFB1', 1079, 'San Francisco-Oakland-Hayward, CA', 'Mozilla/5.0 (Windows NT 5.1; rv:31.0) Gecko/20100101 Firefox/31.0')\n",
      "(1543565771796, '88', 'paid', 'SOMZWCG12A8C13C480', 'ARD7TVE1187B99BFB1', 1075, 'Sacramento--Roseville--Arden-Arcade, CA', '\"Mozilla/5.0 (Macintosh; Intel Mac OS X 10_9_4) AppleWebKit/537.36 (KHTML, like Gecko) Chrome/36.0.1985.143 Safari/537.36\"')\n",
      "(1543566012796, '88', 'paid', 'SOMZWCG12A8C13C480', 'ARD7TVE1187B99BFB1', 1075, 'Sacramento--Roseville--Arden-Arcade, CA', '\"Mozilla/5.0 (Macintosh; Intel Mac OS X 10_9_4) AppleWebKit/537.36 (KHTML, like Gecko) Chrome/36.0.1985.143 Safari/537.36\"')\n",
      "(1543566117796, '88', 'paid', 'SOMZWCG12A8C13C480', 'ARD7TVE1187B99BFB1', 1075, 'Sacramento--Roseville--Arden-Arcade, CA', '\"Mozilla/5.0 (Macintosh; Intel Mac OS X 10_9_4) AppleWebKit/537.36 (KHTML, like Gecko) Chrome/36.0.1985.143 Safari/537.36\"')\n",
      "(1543566367796, '88', 'paid', 'SOMZWCG12A8C13C480', 'ARD7TVE1187B99BFB1', 1075, 'Sacramento--Roseville--Arden-Arcade, CA', '\"Mozilla/5.0 (Macintosh; Intel Mac OS X 10_9_4) AppleWebKit/537.36 (KHTML, like Gecko) Chrome/36.0.1985.143 Safari/537.36\"')\n",
      "(1543566598796, '88', 'paid', 'SOMZWCG12A8C13C480', 'ARD7TVE1187B99BFB1', 1075, 'Sacramento--Roseville--Arden-Arcade, CA', '\"Mozilla/5.0 (Macintosh; Intel Mac OS X 10_9_4) AppleWebKit/537.36 (KHTML, like Gecko) Chrome/36.0.1985.143 Safari/537.36\"')\n",
      "(1543566763796, '88', 'paid', 'SOMZWCG12A8C13C480', 'ARD7TVE1187B99BFB1', 1075, 'Sacramento--Roseville--Arden-Arcade, CA', '\"Mozilla/5.0 (Macintosh; Intel Mac OS X 10_9_4) AppleWebKit/537.36 (KHTML, like Gecko) Chrome/36.0.1985.143 Safari/537.36\"')\n",
      "(1543567118796, '88', 'paid', 'SOMZWCG12A8C13C480', 'ARD7TVE1187B99BFB1', 1075, 'Sacramento--Roseville--Arden-Arcade, CA', '\"Mozilla/5.0 (Macintosh; Intel Mac OS X 10_9_4) AppleWebKit/537.36 (KHTML, like Gecko) Chrome/36.0.1985.143 Safari/537.36\"')\n",
      "(1543567581796, '88', 'paid', 'SOMZWCG12A8C13C480', 'ARD7TVE1187B99BFB1', 1075, 'Sacramento--Roseville--Arden-Arcade, CA', '\"Mozilla/5.0 (Macintosh; Intel Mac OS X 10_9_4) AppleWebKit/537.36 (KHTML, like Gecko) Chrome/36.0.1985.143 Safari/537.36\"')\n",
      "(1543572774796, '36', 'paid', 'SOMZWCG12A8C13C480', 'ARD7TVE1187B99BFB1', 998, 'Janesville-Beloit, WI', '\"Mozilla/5.0 (Windows NT 5.1) AppleWebKit/537.36 (KHTML, like Gecko) Chrome/36.0.1985.143 Safari/537.36\"')\n",
      "(1543573087796, '36', 'paid', 'SOMZWCG12A8C13C480', 'ARD7TVE1187B99BFB1', 998, 'Janesville-Beloit, WI', '\"Mozilla/5.0 (Windows NT 5.1) AppleWebKit/537.36 (KHTML, like Gecko) Chrome/36.0.1985.143 Safari/537.36\"')\n",
      "(1543573373796, '36', 'paid', 'SOMZWCG12A8C13C480', 'ARD7TVE1187B99BFB1', 998, 'Janesville-Beloit, WI', '\"Mozilla/5.0 (Windows NT 5.1) AppleWebKit/537.36 (KHTML, like Gecko) Chrome/36.0.1985.143 Safari/537.36\"')\n",
      "(1543573628796, '36', 'paid', 'SOMZWCG12A8C13C480', 'ARD7TVE1187B99BFB1', 998, 'Janesville-Beloit, WI', '\"Mozilla/5.0 (Windows NT 5.1) AppleWebKit/537.36 (KHTML, like Gecko) Chrome/36.0.1985.143 Safari/537.36\"')\n",
      "(1543573853796, '36', 'paid', 'SOMZWCG12A8C13C480', 'ARD7TVE1187B99BFB1', 998, 'Janesville-Beloit, WI', '\"Mozilla/5.0 (Windows NT 5.1) AppleWebKit/537.36 (KHTML, like Gecko) Chrome/36.0.1985.143 Safari/537.36\"')\n",
      "(1543574118796, '36', 'paid', 'SOMZWCG12A8C13C480', 'ARD7TVE1187B99BFB1', 998, 'Janesville-Beloit, WI', '\"Mozilla/5.0 (Windows NT 5.1) AppleWebKit/537.36 (KHTML, like Gecko) Chrome/36.0.1985.143 Safari/537.36\"')\n",
      "(1543574334796, '36', 'paid', 'SOMZWCG12A8C13C480', 'ARD7TVE1187B99BFB1', 998, 'Janesville-Beloit, WI', '\"Mozilla/5.0 (Windows NT 5.1) AppleWebKit/537.36 (KHTML, like Gecko) Chrome/36.0.1985.143 Safari/537.36\"')\n",
      "(1543574529796, '36', 'paid', 'SOMZWCG12A8C13C480', 'ARD7TVE1187B99BFB1', 998, 'Janesville-Beloit, WI', '\"Mozilla/5.0 (Windows NT 5.1) AppleWebKit/537.36 (KHTML, like Gecko) Chrome/36.0.1985.143 Safari/537.36\"')\n",
      "(1543574766796, '36', 'paid', 'SOMZWCG12A8C13C480', 'ARD7TVE1187B99BFB1', 998, 'Janesville-Beloit, WI', '\"Mozilla/5.0 (Windows NT 5.1) AppleWebKit/537.36 (KHTML, like Gecko) Chrome/36.0.1985.143 Safari/537.36\"')\n",
      "(1543574980796, '36', 'paid', 'SOMZWCG12A8C13C480', 'ARD7TVE1187B99BFB1', 998, 'Janesville-Beloit, WI', '\"Mozilla/5.0 (Windows NT 5.1) AppleWebKit/537.36 (KHTML, like Gecko) Chrome/36.0.1985.143 Safari/537.36\"')\n",
      "(1543575245796, '36', 'paid', 'SOMZWCG12A8C13C480', 'ARD7TVE1187B99BFB1', 998, 'Janesville-Beloit, WI', '\"Mozilla/5.0 (Windows NT 5.1) AppleWebKit/537.36 (KHTML, like Gecko) Chrome/36.0.1985.143 Safari/537.36\"')\n",
      "(1543575385796, '92', 'free', 'SOMZWCG12A8C13C480', 'ARD7TVE1187B99BFB1', 1092, 'Palestine, TX', 'Mozilla/5.0 (Macintosh; Intel Mac OS X 10.9; rv:31.0) Gecko/20100101 Firefox/31.0')\n",
      "(1543575563796, '36', 'paid', 'SOMZWCG12A8C13C480', 'ARD7TVE1187B99BFB1', 998, 'Janesville-Beloit, WI', '\"Mozilla/5.0 (Windows NT 5.1) AppleWebKit/537.36 (KHTML, like Gecko) Chrome/36.0.1985.143 Safari/537.36\"')\n",
      "(1543575601796, '92', 'free', 'SOMZWCG12A8C13C480', 'ARD7TVE1187B99BFB1', 1092, 'Palestine, TX', 'Mozilla/5.0 (Macintosh; Intel Mac OS X 10.9; rv:31.0) Gecko/20100101 Firefox/31.0')\n",
      "(1543575978796, '92', 'free', 'SOMZWCG12A8C13C480', 'ARD7TVE1187B99BFB1', 1092, 'Palestine, TX', 'Mozilla/5.0 (Macintosh; Intel Mac OS X 10.9; rv:31.0) Gecko/20100101 Firefox/31.0')\n",
      "(1543576189796, '92', 'free', 'SOMZWCG12A8C13C480', 'ARD7TVE1187B99BFB1', 1092, 'Palestine, TX', 'Mozilla/5.0 (Macintosh; Intel Mac OS X 10.9; rv:31.0) Gecko/20100101 Firefox/31.0')\n",
      "(1543576218796, '36', 'paid', 'SOMZWCG12A8C13C480', 'ARD7TVE1187B99BFB1', 998, 'Janesville-Beloit, WI', '\"Mozilla/5.0 (Windows NT 5.1) AppleWebKit/537.36 (KHTML, like Gecko) Chrome/36.0.1985.143 Safari/537.36\"')\n",
      "(1543576387796, '36', 'paid', 'SOMZWCG12A8C13C480', 'ARD7TVE1187B99BFB1', 998, 'Janesville-Beloit, WI', '\"Mozilla/5.0 (Windows NT 5.1) AppleWebKit/537.36 (KHTML, like Gecko) Chrome/36.0.1985.143 Safari/537.36\"')\n",
      "(1543576570796, '36', 'paid', 'SOMZWCG12A8C13C480', 'ARD7TVE1187B99BFB1', 998, 'Janesville-Beloit, WI', '\"Mozilla/5.0 (Windows NT 5.1) AppleWebKit/537.36 (KHTML, like Gecko) Chrome/36.0.1985.143 Safari/537.36\"')\n",
      "(1543576803796, '36', 'paid', 'SOMZWCG12A8C13C480', 'ARD7TVE1187B99BFB1', 998, 'Janesville-Beloit, WI', '\"Mozilla/5.0 (Windows NT 5.1) AppleWebKit/537.36 (KHTML, like Gecko) Chrome/36.0.1985.143 Safari/537.36\"')\n",
      "(1543577024796, '36', 'paid', 'SOMZWCG12A8C13C480', 'ARD7TVE1187B99BFB1', 998, 'Janesville-Beloit, WI', '\"Mozilla/5.0 (Windows NT 5.1) AppleWebKit/537.36 (KHTML, like Gecko) Chrome/36.0.1985.143 Safari/537.36\"')\n",
      "(1543577296796, '36', 'paid', 'SOMZWCG12A8C13C480', 'ARD7TVE1187B99BFB1', 998, 'Janesville-Beloit, WI', '\"Mozilla/5.0 (Windows NT 5.1) AppleWebKit/537.36 (KHTML, like Gecko) Chrome/36.0.1985.143 Safari/537.36\"')\n",
      "(1543577524796, '36', 'paid', 'SOMZWCG12A8C13C480', 'ARD7TVE1187B99BFB1', 998, 'Janesville-Beloit, WI', '\"Mozilla/5.0 (Windows NT 5.1) AppleWebKit/537.36 (KHTML, like Gecko) Chrome/36.0.1985.143 Safari/537.36\"')\n",
      "(1543577843796, '36', 'paid', 'SOMZWCG12A8C13C480', 'ARD7TVE1187B99BFB1', 998, 'Janesville-Beloit, WI', '\"Mozilla/5.0 (Windows NT 5.1) AppleWebKit/537.36 (KHTML, like Gecko) Chrome/36.0.1985.143 Safari/537.36\"')\n",
      "(1543578063796, '36', 'paid', 'SOMZWCG12A8C13C480', 'ARD7TVE1187B99BFB1', 998, 'Janesville-Beloit, WI', '\"Mozilla/5.0 (Windows NT 5.1) AppleWebKit/537.36 (KHTML, like Gecko) Chrome/36.0.1985.143 Safari/537.36\"')\n",
      "(1543578383796, '36', 'paid', 'SOMZWCG12A8C13C480', 'ARD7TVE1187B99BFB1', 998, 'Janesville-Beloit, WI', '\"Mozilla/5.0 (Windows NT 5.1) AppleWebKit/537.36 (KHTML, like Gecko) Chrome/36.0.1985.143 Safari/537.36\"')\n",
      "(1543578582796, '36', 'paid', 'SOMZWCG12A8C13C480', 'ARD7TVE1187B99BFB1', 998, 'Janesville-Beloit, WI', '\"Mozilla/5.0 (Windows NT 5.1) AppleWebKit/537.36 (KHTML, like Gecko) Chrome/36.0.1985.143 Safari/537.36\"')\n",
      "(1543579857796, '12', 'free', 'SOMZWCG12A8C13C480', 'ARD7TVE1187B99BFB1', 1078, 'New York-Newark-Jersey City, NY-NJ-PA', 'Mozilla/5.0 (Windows NT 6.1; rv:31.0) Gecko/20100101 Firefox/31.0')\n",
      "(1543581078796, '49', 'paid', 'SOMZWCG12A8C13C480', 'ARD7TVE1187B99BFB1', 1096, 'San Francisco-Oakland-Hayward, CA', 'Mozilla/5.0 (Windows NT 5.1; rv:31.0) Gecko/20100101 Firefox/31.0')\n",
      "(1543581287796, '49', 'paid', 'SOMZWCG12A8C13C480', 'ARD7TVE1187B99BFB1', 1096, 'San Francisco-Oakland-Hayward, CA', 'Mozilla/5.0 (Windows NT 5.1; rv:31.0) Gecko/20100101 Firefox/31.0')\n",
      "(1543581576796, '49', 'paid', 'SOMZWCG12A8C13C480', 'ARD7TVE1187B99BFB1', 1096, 'San Francisco-Oakland-Hayward, CA', 'Mozilla/5.0 (Windows NT 5.1; rv:31.0) Gecko/20100101 Firefox/31.0')\n",
      "(1543582073796, '49', 'paid', 'SOMZWCG12A8C13C480', 'ARD7TVE1187B99BFB1', 1096, 'San Francisco-Oakland-Hayward, CA', 'Mozilla/5.0 (Windows NT 5.1; rv:31.0) Gecko/20100101 Firefox/31.0')\n",
      "(1543582370796, '49', 'paid', 'SOMZWCG12A8C13C480', 'ARD7TVE1187B99BFB1', 1096, 'San Francisco-Oakland-Hayward, CA', 'Mozilla/5.0 (Windows NT 5.1; rv:31.0) Gecko/20100101 Firefox/31.0')\n",
      "(1543582625796, '49', 'paid', 'SOMZWCG12A8C13C480', 'ARD7TVE1187B99BFB1', 1096, 'San Francisco-Oakland-Hayward, CA', 'Mozilla/5.0 (Windows NT 5.1; rv:31.0) Gecko/20100101 Firefox/31.0')\n",
      "(1543582673796, '61', 'free', 'SOMZWCG12A8C13C480', 'ARD7TVE1187B99BFB1', 1064, 'Houston-The Woodlands-Sugar Land, TX', '\"Mozilla/5.0 (Macintosh; Intel Mac OS X 10_9_4) AppleWebKit/537.77.4 (KHTML, like Gecko) Version/7.0.5 Safari/537.77.4\"')\n",
      "(1543582902796, '49', 'paid', 'SOMZWCG12A8C13C480', 'ARD7TVE1187B99BFB1', 1096, 'San Francisco-Oakland-Hayward, CA', 'Mozilla/5.0 (Windows NT 5.1; rv:31.0) Gecko/20100101 Firefox/31.0')\n",
      "(1543583154796, '49', 'paid', 'SOMZWCG12A8C13C480', 'ARD7TVE1187B99BFB1', 1096, 'San Francisco-Oakland-Hayward, CA', 'Mozilla/5.0 (Windows NT 5.1; rv:31.0) Gecko/20100101 Firefox/31.0')\n",
      "(1543583416796, '49', 'paid', 'SOMZWCG12A8C13C480', 'ARD7TVE1187B99BFB1', 1096, 'San Francisco-Oakland-Hayward, CA', 'Mozilla/5.0 (Windows NT 5.1; rv:31.0) Gecko/20100101 Firefox/31.0')\n",
      "(1543583625796, '49', 'paid', 'SOMZWCG12A8C13C480', 'ARD7TVE1187B99BFB1', 1096, 'San Francisco-Oakland-Hayward, CA', 'Mozilla/5.0 (Windows NT 5.1; rv:31.0) Gecko/20100101 Firefox/31.0')\n",
      "(1543583845796, '49', 'paid', 'SOMZWCG12A8C13C480', 'ARD7TVE1187B99BFB1', 1096, 'San Francisco-Oakland-Hayward, CA', 'Mozilla/5.0 (Windows NT 5.1; rv:31.0) Gecko/20100101 Firefox/31.0')\n",
      "(1543584030796, '49', 'paid', 'SOMZWCG12A8C13C480', 'ARD7TVE1187B99BFB1', 1096, 'San Francisco-Oakland-Hayward, CA', 'Mozilla/5.0 (Windows NT 5.1; rv:31.0) Gecko/20100101 Firefox/31.0')\n",
      "(1543584044796, '43', 'free', 'SOMZWCG12A8C13C480', 'ARD7TVE1187B99BFB1', 618, 'San Antonio-New Braunfels, TX', '\"Mozilla/5.0 (Windows NT 5.1) AppleWebKit/537.36 (KHTML, like Gecko) Chrome/36.0.1985.143 Safari/537.36\"')\n",
      "(1543584469796, '49', 'paid', 'SOMZWCG12A8C13C480', 'ARD7TVE1187B99BFB1', 1096, 'San Francisco-Oakland-Hayward, CA', 'Mozilla/5.0 (Windows NT 5.1; rv:31.0) Gecko/20100101 Firefox/31.0')\n",
      "(1543584688796, '49', 'paid', 'SOMZWCG12A8C13C480', 'ARD7TVE1187B99BFB1', 1096, 'San Francisco-Oakland-Hayward, CA', 'Mozilla/5.0 (Windows NT 5.1; rv:31.0) Gecko/20100101 Firefox/31.0')\n",
      "(1543584889796, '49', 'paid', 'SOMZWCG12A8C13C480', 'ARD7TVE1187B99BFB1', 1096, 'San Francisco-Oakland-Hayward, CA', 'Mozilla/5.0 (Windows NT 5.1; rv:31.0) Gecko/20100101 Firefox/31.0')\n",
      "(1543585122796, '49', 'paid', 'SOMZWCG12A8C13C480', 'ARD7TVE1187B99BFB1', 1096, 'San Francisco-Oakland-Hayward, CA', 'Mozilla/5.0 (Windows NT 5.1; rv:31.0) Gecko/20100101 Firefox/31.0')\n",
      "(1543585311796, '49', 'paid', 'SOMZWCG12A8C13C480', 'ARD7TVE1187B99BFB1', 1096, 'San Francisco-Oakland-Hayward, CA', 'Mozilla/5.0 (Windows NT 5.1; rv:31.0) Gecko/20100101 Firefox/31.0')\n",
      "(1543585420796, '85', 'paid', 'SOMZWCG12A8C13C480', 'ARD7TVE1187B99BFB1', 977, 'Red Bluff, CA', '\"Mozilla/5.0 (Macintosh; Intel Mac OS X 10_10_0) AppleWebKit/537.36 (KHTML, like Gecko) Chrome/36.0.1985.143 Safari/537.36\"')\n",
      "(1543585520796, '49', 'paid', 'SOMZWCG12A8C13C480', 'ARD7TVE1187B99BFB1', 1096, 'San Francisco-Oakland-Hayward, CA', 'Mozilla/5.0 (Windows NT 5.1; rv:31.0) Gecko/20100101 Firefox/31.0')\n",
      "(1543585687796, '85', 'paid', 'SOMZWCG12A8C13C480', 'ARD7TVE1187B99BFB1', 977, 'Red Bluff, CA', '\"Mozilla/5.0 (Macintosh; Intel Mac OS X 10_10_0) AppleWebKit/537.36 (KHTML, like Gecko) Chrome/36.0.1985.143 Safari/537.36\"')\n",
      "(1543585735796, '49', 'paid', 'SOMZWCG12A8C13C480', 'ARD7TVE1187B99BFB1', 1096, 'San Francisco-Oakland-Hayward, CA', 'Mozilla/5.0 (Windows NT 5.1; rv:31.0) Gecko/20100101 Firefox/31.0')\n",
      "(1543585957796, '49', 'paid', 'SOMZWCG12A8C13C480', 'ARD7TVE1187B99BFB1', 1096, 'San Francisco-Oakland-Hayward, CA', 'Mozilla/5.0 (Windows NT 5.1; rv:31.0) Gecko/20100101 Firefox/31.0')\n",
      "(1543585975796, '85', 'paid', 'SOMZWCG12A8C13C480', 'ARD7TVE1187B99BFB1', 977, 'Red Bluff, CA', '\"Mozilla/5.0 (Macintosh; Intel Mac OS X 10_10_0) AppleWebKit/537.36 (KHTML, like Gecko) Chrome/36.0.1985.143 Safari/537.36\"')\n",
      "(1543586196796, '49', 'paid', 'SOMZWCG12A8C13C480', 'ARD7TVE1187B99BFB1', 1096, 'San Francisco-Oakland-Hayward, CA', 'Mozilla/5.0 (Windows NT 5.1; rv:31.0) Gecko/20100101 Firefox/31.0')\n",
      "(1543586241796, '85', 'paid', 'SOMZWCG12A8C13C480', 'ARD7TVE1187B99BFB1', 977, 'Red Bluff, CA', '\"Mozilla/5.0 (Macintosh; Intel Mac OS X 10_10_0) AppleWebKit/537.36 (KHTML, like Gecko) Chrome/36.0.1985.143 Safari/537.36\"')\n",
      "(1543586244796, '50', 'free', 'SOMZWCG12A8C13C480', 'ARD7TVE1187B99BFB1', 1050, 'New Haven-Milford, CT', '\"Mozilla/5.0 (Windows NT 6.3; WOW64) AppleWebKit/537.36 (KHTML, like Gecko) Chrome/36.0.1985.143 Safari/537.36\"')\n",
      "(1543586371796, '50', 'free', 'SOMZWCG12A8C13C480', 'ARD7TVE1187B99BFB1', 1050, 'New Haven-Milford, CT', '\"Mozilla/5.0 (Windows NT 6.3; WOW64) AppleWebKit/537.36 (KHTML, like Gecko) Chrome/36.0.1985.143 Safari/537.36\"')\n",
      "(1543586438796, '26', 'free', 'SOMZWCG12A8C13C480', 'ARD7TVE1187B99BFB1', 1090, 'San Jose-Sunnyvale-Santa Clara, CA', '\"Mozilla/5.0 (X11; Linux x86_64) AppleWebKit/537.36 (KHTML, like Gecko) Ubuntu Chromium/36.0.1985.125 Chrome/36.0.1985.125 Safari/537.36\"')\n",
      "(1543586502796, '85', 'paid', 'SOMZWCG12A8C13C480', 'ARD7TVE1187B99BFB1', 977, 'Red Bluff, CA', '\"Mozilla/5.0 (Macintosh; Intel Mac OS X 10_10_0) AppleWebKit/537.36 (KHTML, like Gecko) Chrome/36.0.1985.143 Safari/537.36\"')\n",
      "(1543586503796, '49', 'paid', 'SOMZWCG12A8C13C480', 'ARD7TVE1187B99BFB1', 1096, 'San Francisco-Oakland-Hayward, CA', 'Mozilla/5.0 (Windows NT 5.1; rv:31.0) Gecko/20100101 Firefox/31.0')\n",
      "(1543586601796, '50', 'free', 'SOMZWCG12A8C13C480', 'ARD7TVE1187B99BFB1', 1050, 'New Haven-Milford, CT', '\"Mozilla/5.0 (Windows NT 6.3; WOW64) AppleWebKit/537.36 (KHTML, like Gecko) Chrome/36.0.1985.143 Safari/537.36\"')\n",
      "(1543586687796, '26', 'free', 'SOMZWCG12A8C13C480', 'ARD7TVE1187B99BFB1', 1090, 'San Jose-Sunnyvale-Santa Clara, CA', '\"Mozilla/5.0 (X11; Linux x86_64) AppleWebKit/537.36 (KHTML, like Gecko) Ubuntu Chromium/36.0.1985.125 Chrome/36.0.1985.125 Safari/537.36\"')\n",
      "(1543586803796, '49', 'paid', 'SOMZWCG12A8C13C480', 'ARD7TVE1187B99BFB1', 1096, 'San Francisco-Oakland-Hayward, CA', 'Mozilla/5.0 (Windows NT 5.1; rv:31.0) Gecko/20100101 Firefox/31.0')\n",
      "(1543586876796, '85', 'paid', 'SOMZWCG12A8C13C480', 'ARD7TVE1187B99BFB1', 977, 'Red Bluff, CA', '\"Mozilla/5.0 (Macintosh; Intel Mac OS X 10_10_0) AppleWebKit/537.36 (KHTML, like Gecko) Chrome/36.0.1985.143 Safari/537.36\"')\n",
      "(1543587001796, '49', 'paid', 'SOMZWCG12A8C13C480', 'ARD7TVE1187B99BFB1', 1096, 'San Francisco-Oakland-Hayward, CA', 'Mozilla/5.0 (Windows NT 5.1; rv:31.0) Gecko/20100101 Firefox/31.0')\n",
      "(1543587085796, '85', 'paid', 'SOMZWCG12A8C13C480', 'ARD7TVE1187B99BFB1', 977, 'Red Bluff, CA', '\"Mozilla/5.0 (Macintosh; Intel Mac OS X 10_10_0) AppleWebKit/537.36 (KHTML, like Gecko) Chrome/36.0.1985.143 Safari/537.36\"')\n",
      "(1543587136796, '49', 'paid', 'SOMZWCG12A8C13C480', 'ARD7TVE1187B99BFB1', 1096, 'San Francisco-Oakland-Hayward, CA', 'Mozilla/5.0 (Windows NT 5.1; rv:31.0) Gecko/20100101 Firefox/31.0')\n",
      "(1543587325796, '85', 'paid', 'SOMZWCG12A8C13C480', 'ARD7TVE1187B99BFB1', 977, 'Red Bluff, CA', '\"Mozilla/5.0 (Macintosh; Intel Mac OS X 10_10_0) AppleWebKit/537.36 (KHTML, like Gecko) Chrome/36.0.1985.143 Safari/537.36\"')\n",
      "(1543587396796, '49', 'paid', 'SOMZWCG12A8C13C480', 'ARD7TVE1187B99BFB1', 1096, 'San Francisco-Oakland-Hayward, CA', 'Mozilla/5.0 (Windows NT 5.1; rv:31.0) Gecko/20100101 Firefox/31.0')\n",
      "(1543587588796, '85', 'paid', 'SOMZWCG12A8C13C480', 'ARD7TVE1187B99BFB1', 977, 'Red Bluff, CA', '\"Mozilla/5.0 (Macintosh; Intel Mac OS X 10_10_0) AppleWebKit/537.36 (KHTML, like Gecko) Chrome/36.0.1985.143 Safari/537.36\"')\n",
      "(1543587705796, '49', 'paid', 'SOMZWCG12A8C13C480', 'ARD7TVE1187B99BFB1', 1096, 'San Francisco-Oakland-Hayward, CA', 'Mozilla/5.0 (Windows NT 5.1; rv:31.0) Gecko/20100101 Firefox/31.0')\n",
      "(1543587842796, '49', 'paid', 'SOMZWCG12A8C13C480', 'ARD7TVE1187B99BFB1', 1096, 'San Francisco-Oakland-Hayward, CA', 'Mozilla/5.0 (Windows NT 5.1; rv:31.0) Gecko/20100101 Firefox/31.0')\n",
      "(1543588062796, '85', 'paid', 'SOMZWCG12A8C13C480', 'ARD7TVE1187B99BFB1', 977, 'Red Bluff, CA', '\"Mozilla/5.0 (Macintosh; Intel Mac OS X 10_10_0) AppleWebKit/537.36 (KHTML, like Gecko) Chrome/36.0.1985.143 Safari/537.36\"')\n",
      "(1543588106796, '49', 'paid', 'SOMZWCG12A8C13C480', 'ARD7TVE1187B99BFB1', 1096, 'San Francisco-Oakland-Hayward, CA', 'Mozilla/5.0 (Windows NT 5.1; rv:31.0) Gecko/20100101 Firefox/31.0')\n",
      "(1543588275796, '85', 'paid', 'SOMZWCG12A8C13C480', 'ARD7TVE1187B99BFB1', 977, 'Red Bluff, CA', '\"Mozilla/5.0 (Macintosh; Intel Mac OS X 10_10_0) AppleWebKit/537.36 (KHTML, like Gecko) Chrome/36.0.1985.143 Safari/537.36\"')\n",
      "(1543588419796, '49', 'paid', 'SOMZWCG12A8C13C480', 'ARD7TVE1187B99BFB1', 1096, 'San Francisco-Oakland-Hayward, CA', 'Mozilla/5.0 (Windows NT 5.1; rv:31.0) Gecko/20100101 Firefox/31.0')\n",
      "(1543588433796, '101', 'free', 'SOMZWCG12A8C13C480', 'ARD7TVE1187B99BFB1', 1060, 'New Orleans-Metairie, LA', '\"Mozilla/5.0 (Windows NT 6.3; WOW64) AppleWebKit/537.36 (KHTML, like Gecko) Chrome/36.0.1985.143 Safari/537.36\"')\n",
      "(1543588567796, '85', 'paid', 'SOMZWCG12A8C13C480', 'ARD7TVE1187B99BFB1', 977, 'Red Bluff, CA', '\"Mozilla/5.0 (Macintosh; Intel Mac OS X 10_10_0) AppleWebKit/537.36 (KHTML, like Gecko) Chrome/36.0.1985.143 Safari/537.36\"')\n",
      "(1543588676796, '101', 'free', 'SOMZWCG12A8C13C480', 'ARD7TVE1187B99BFB1', 1060, 'New Orleans-Metairie, LA', '\"Mozilla/5.0 (Windows NT 6.3; WOW64) AppleWebKit/537.36 (KHTML, like Gecko) Chrome/36.0.1985.143 Safari/537.36\"')\n",
      "(1543588717796, '49', 'paid', 'SOMZWCG12A8C13C480', 'ARD7TVE1187B99BFB1', 1096, 'San Francisco-Oakland-Hayward, CA', 'Mozilla/5.0 (Windows NT 5.1; rv:31.0) Gecko/20100101 Firefox/31.0')\n",
      "(1543588866796, '16', 'paid', 'SOMZWCG12A8C13C480', 'ARD7TVE1187B99BFB1', 1076, 'Birmingham-Hoover, AL', '\"Mozilla/5.0 (Macintosh; Intel Mac OS X 10_9_4) AppleWebKit/537.77.4 (KHTML, like Gecko) Version/7.0.5 Safari/537.77.4\"')\n",
      "(1543588921796, '85', 'paid', 'SOMZWCG12A8C13C480', 'ARD7TVE1187B99BFB1', 977, 'Red Bluff, CA', '\"Mozilla/5.0 (Macintosh; Intel Mac OS X 10_10_0) AppleWebKit/537.36 (KHTML, like Gecko) Chrome/36.0.1985.143 Safari/537.36\"')\n",
      "(1543588958796, '49', 'paid', 'SOMZWCG12A8C13C480', 'ARD7TVE1187B99BFB1', 1096, 'San Francisco-Oakland-Hayward, CA', 'Mozilla/5.0 (Windows NT 5.1; rv:31.0) Gecko/20100101 Firefox/31.0')\n",
      "(1543588965796, '101', 'free', 'SOMZWCG12A8C13C480', 'ARD7TVE1187B99BFB1', 1060, 'New Orleans-Metairie, LA', '\"Mozilla/5.0 (Windows NT 6.3; WOW64) AppleWebKit/537.36 (KHTML, like Gecko) Chrome/36.0.1985.143 Safari/537.36\"')\n",
      "(1543589030796, '101', 'free', 'SOMZWCG12A8C13C480', 'ARD7TVE1187B99BFB1', 1060, 'New Orleans-Metairie, LA', '\"Mozilla/5.0 (Windows NT 6.3; WOW64) AppleWebKit/537.36 (KHTML, like Gecko) Chrome/36.0.1985.143 Safari/537.36\"')\n",
      "(1543589113796, '16', 'paid', 'SOMZWCG12A8C13C480', 'ARD7TVE1187B99BFB1', 1076, 'Birmingham-Hoover, AL', '\"Mozilla/5.0 (Macintosh; Intel Mac OS X 10_9_4) AppleWebKit/537.77.4 (KHTML, like Gecko) Version/7.0.5 Safari/537.77.4\"')\n",
      "(1543589203796, '85', 'paid', 'SOMZWCG12A8C13C480', 'ARD7TVE1187B99BFB1', 977, 'Red Bluff, CA', '\"Mozilla/5.0 (Macintosh; Intel Mac OS X 10_10_0) AppleWebKit/537.36 (KHTML, like Gecko) Chrome/36.0.1985.143 Safari/537.36\"')\n",
      "(1543589255796, '101', 'free', 'SOMZWCG12A8C13C480', 'ARD7TVE1187B99BFB1', 1060, 'New Orleans-Metairie, LA', '\"Mozilla/5.0 (Windows NT 6.3; WOW64) AppleWebKit/537.36 (KHTML, like Gecko) Chrome/36.0.1985.143 Safari/537.36\"')\n",
      "(1543589377796, '16', 'paid', 'SOMZWCG12A8C13C480', 'ARD7TVE1187B99BFB1', 1076, 'Birmingham-Hoover, AL', '\"Mozilla/5.0 (Macintosh; Intel Mac OS X 10_9_4) AppleWebKit/537.77.4 (KHTML, like Gecko) Version/7.0.5 Safari/537.77.4\"')\n",
      "(1543589497796, '101', 'free', 'SOMZWCG12A8C13C480', 'ARD7TVE1187B99BFB1', 1060, 'New Orleans-Metairie, LA', '\"Mozilla/5.0 (Windows NT 6.3; WOW64) AppleWebKit/537.36 (KHTML, like Gecko) Chrome/36.0.1985.143 Safari/537.36\"')\n",
      "(1543589524796, '85', 'paid', 'SOMZWCG12A8C13C480', 'ARD7TVE1187B99BFB1', 977, 'Red Bluff, CA', '\"Mozilla/5.0 (Macintosh; Intel Mac OS X 10_10_0) AppleWebKit/537.36 (KHTML, like Gecko) Chrome/36.0.1985.143 Safari/537.36\"')\n",
      "(1543589613796, '16', 'paid', 'SOMZWCG12A8C13C480', 'ARD7TVE1187B99BFB1', 1076, 'Birmingham-Hoover, AL', '\"Mozilla/5.0 (Macintosh; Intel Mac OS X 10_9_4) AppleWebKit/537.77.4 (KHTML, like Gecko) Version/7.0.5 Safari/537.77.4\"')\n",
      "(1543589725796, '85', 'paid', 'SOMZWCG12A8C13C480', 'ARD7TVE1187B99BFB1', 977, 'Red Bluff, CA', '\"Mozilla/5.0 (Macintosh; Intel Mac OS X 10_10_0) AppleWebKit/537.36 (KHTML, like Gecko) Chrome/36.0.1985.143 Safari/537.36\"')\n",
      "(1543589872796, '85', 'paid', 'SOMZWCG12A8C13C480', 'ARD7TVE1187B99BFB1', 977, 'Red Bluff, CA', '\"Mozilla/5.0 (Macintosh; Intel Mac OS X 10_10_0) AppleWebKit/537.36 (KHTML, like Gecko) Chrome/36.0.1985.143 Safari/537.36\"')\n",
      "(1543589971796, '88', 'paid', 'SOMZWCG12A8C13C480', 'ARD7TVE1187B99BFB1', 1097, 'Sacramento--Roseville--Arden-Arcade, CA', '\"Mozilla/5.0 (Macintosh; Intel Mac OS X 10_9_4) AppleWebKit/537.36 (KHTML, like Gecko) Chrome/36.0.1985.143 Safari/537.36\"')\n",
      "(1543589972796, '16', 'paid', 'SOMZWCG12A8C13C480', 'ARD7TVE1187B99BFB1', 1076, 'Birmingham-Hoover, AL', '\"Mozilla/5.0 (Macintosh; Intel Mac OS X 10_9_4) AppleWebKit/537.77.4 (KHTML, like Gecko) Version/7.0.5 Safari/537.77.4\"')\n",
      "(1543590066796, '85', 'paid', 'SOMZWCG12A8C13C480', 'ARD7TVE1187B99BFB1', 977, 'Red Bluff, CA', '\"Mozilla/5.0 (Macintosh; Intel Mac OS X 10_10_0) AppleWebKit/537.36 (KHTML, like Gecko) Chrome/36.0.1985.143 Safari/537.36\"')\n",
      "(1543590162796, '16', 'paid', 'SOMZWCG12A8C13C480', 'ARD7TVE1187B99BFB1', 1076, 'Birmingham-Hoover, AL', '\"Mozilla/5.0 (Macintosh; Intel Mac OS X 10_9_4) AppleWebKit/537.77.4 (KHTML, like Gecko) Version/7.0.5 Safari/537.77.4\"')\n",
      "(1543590347796, '88', 'paid', 'SOMZWCG12A8C13C480', 'ARD7TVE1187B99BFB1', 1097, 'Sacramento--Roseville--Arden-Arcade, CA', '\"Mozilla/5.0 (Macintosh; Intel Mac OS X 10_9_4) AppleWebKit/537.36 (KHTML, like Gecko) Chrome/36.0.1985.143 Safari/537.36\"')\n",
      "(1543590356796, '85', 'paid', 'SOMZWCG12A8C13C480', 'ARD7TVE1187B99BFB1', 977, 'Red Bluff, CA', '\"Mozilla/5.0 (Macintosh; Intel Mac OS X 10_10_0) AppleWebKit/537.36 (KHTML, like Gecko) Chrome/36.0.1985.143 Safari/537.36\"')\n",
      "(1543590398796, '16', 'paid', 'SOMZWCG12A8C13C480', 'ARD7TVE1187B99BFB1', 1076, 'Birmingham-Hoover, AL', '\"Mozilla/5.0 (Macintosh; Intel Mac OS X 10_9_4) AppleWebKit/537.77.4 (KHTML, like Gecko) Version/7.0.5 Safari/537.77.4\"')\n",
      "(1543590541796, '88', 'paid', 'SOMZWCG12A8C13C480', 'ARD7TVE1187B99BFB1', 1097, 'Sacramento--Roseville--Arden-Arcade, CA', '\"Mozilla/5.0 (Macintosh; Intel Mac OS X 10_9_4) AppleWebKit/537.36 (KHTML, like Gecko) Chrome/36.0.1985.143 Safari/537.36\"')\n",
      "(1543590607796, '85', 'paid', 'SOMZWCG12A8C13C480', 'ARD7TVE1187B99BFB1', 977, 'Red Bluff, CA', '\"Mozilla/5.0 (Macintosh; Intel Mac OS X 10_10_0) AppleWebKit/537.36 (KHTML, like Gecko) Chrome/36.0.1985.143 Safari/537.36\"')\n",
      "(1543590707796, '16', 'paid', 'SOMZWCG12A8C13C480', 'ARD7TVE1187B99BFB1', 1076, 'Birmingham-Hoover, AL', '\"Mozilla/5.0 (Macintosh; Intel Mac OS X 10_9_4) AppleWebKit/537.77.4 (KHTML, like Gecko) Version/7.0.5 Safari/537.77.4\"')\n",
      "(1543590774796, '36', 'paid', 'SOMZWCG12A8C13C480', 'ARD7TVE1187B99BFB1', 1100, 'Janesville-Beloit, WI', '\"Mozilla/5.0 (Windows NT 5.1) AppleWebKit/537.36 (KHTML, like Gecko) Chrome/36.0.1985.143 Safari/537.36\"')\n",
      "(1543590783796, '88', 'paid', 'SOMZWCG12A8C13C480', 'ARD7TVE1187B99BFB1', 1097, 'Sacramento--Roseville--Arden-Arcade, CA', '\"Mozilla/5.0 (Macintosh; Intel Mac OS X 10_9_4) AppleWebKit/537.36 (KHTML, like Gecko) Chrome/36.0.1985.143 Safari/537.36\"')\n",
      "(1543590875796, '85', 'paid', 'SOMZWCG12A8C13C480', 'ARD7TVE1187B99BFB1', 977, 'Red Bluff, CA', '\"Mozilla/5.0 (Macintosh; Intel Mac OS X 10_10_0) AppleWebKit/537.36 (KHTML, like Gecko) Chrome/36.0.1985.143 Safari/537.36\"')\n",
      "(1543590905796, '16', 'paid', 'SOMZWCG12A8C13C480', 'ARD7TVE1187B99BFB1', 1076, 'Birmingham-Hoover, AL', '\"Mozilla/5.0 (Macintosh; Intel Mac OS X 10_9_4) AppleWebKit/537.77.4 (KHTML, like Gecko) Version/7.0.5 Safari/537.77.4\"')\n",
      "(1543590962796, '36', 'paid', 'SOMZWCG12A8C13C480', 'ARD7TVE1187B99BFB1', 1100, 'Janesville-Beloit, WI', '\"Mozilla/5.0 (Windows NT 5.1) AppleWebKit/537.36 (KHTML, like Gecko) Chrome/36.0.1985.143 Safari/537.36\"')\n",
      "(1543591027796, '85', 'paid', 'SOMZWCG12A8C13C480', 'ARD7TVE1187B99BFB1', 977, 'Red Bluff, CA', '\"Mozilla/5.0 (Macintosh; Intel Mac OS X 10_10_0) AppleWebKit/537.36 (KHTML, like Gecko) Chrome/36.0.1985.143 Safari/537.36\"')\n",
      "(1543591138796, '16', 'paid', 'SOMZWCG12A8C13C480', 'ARD7TVE1187B99BFB1', 1076, 'Birmingham-Hoover, AL', '\"Mozilla/5.0 (Macintosh; Intel Mac OS X 10_9_4) AppleWebKit/537.77.4 (KHTML, like Gecko) Version/7.0.5 Safari/537.77.4\"')\n",
      "(1543591289796, '85', 'paid', 'SOMZWCG12A8C13C480', 'ARD7TVE1187B99BFB1', 977, 'Red Bluff, CA', '\"Mozilla/5.0 (Macintosh; Intel Mac OS X 10_10_0) AppleWebKit/537.36 (KHTML, like Gecko) Chrome/36.0.1985.143 Safari/537.36\"')\n",
      "(1543591329796, '36', 'paid', 'SOMZWCG12A8C13C480', 'ARD7TVE1187B99BFB1', 1100, 'Janesville-Beloit, WI', '\"Mozilla/5.0 (Windows NT 5.1) AppleWebKit/537.36 (KHTML, like Gecko) Chrome/36.0.1985.143 Safari/537.36\"')\n",
      "(1543591374796, '16', 'paid', 'SOMZWCG12A8C13C480', 'ARD7TVE1187B99BFB1', 1076, 'Birmingham-Hoover, AL', '\"Mozilla/5.0 (Macintosh; Intel Mac OS X 10_9_4) AppleWebKit/537.77.4 (KHTML, like Gecko) Version/7.0.5 Safari/537.77.4\"')\n",
      "(1543591485796, '85', 'paid', 'SOMZWCG12A8C13C480', 'ARD7TVE1187B99BFB1', 977, 'Red Bluff, CA', '\"Mozilla/5.0 (Macintosh; Intel Mac OS X 10_10_0) AppleWebKit/537.36 (KHTML, like Gecko) Chrome/36.0.1985.143 Safari/537.36\"')\n",
      "(1543591559796, '36', 'paid', 'SOMZWCG12A8C13C480', 'ARD7TVE1187B99BFB1', 1100, 'Janesville-Beloit, WI', '\"Mozilla/5.0 (Windows NT 5.1) AppleWebKit/537.36 (KHTML, like Gecko) Chrome/36.0.1985.143 Safari/537.36\"')\n",
      "(1543591645796, '16', 'paid', 'SOMZWCG12A8C13C480', 'ARD7TVE1187B99BFB1', 1076, 'Birmingham-Hoover, AL', '\"Mozilla/5.0 (Macintosh; Intel Mac OS X 10_9_4) AppleWebKit/537.77.4 (KHTML, like Gecko) Version/7.0.5 Safari/537.77.4\"')\n",
      "(1543591710796, '85', 'paid', 'SOMZWCG12A8C13C480', 'ARD7TVE1187B99BFB1', 977, 'Red Bluff, CA', '\"Mozilla/5.0 (Macintosh; Intel Mac OS X 10_10_0) AppleWebKit/537.36 (KHTML, like Gecko) Chrome/36.0.1985.143 Safari/537.36\"')\n",
      "(1543591920796, '16', 'paid', 'SOMZWCG12A8C13C480', 'ARD7TVE1187B99BFB1', 1076, 'Birmingham-Hoover, AL', '\"Mozilla/5.0 (Macintosh; Intel Mac OS X 10_9_4) AppleWebKit/537.77.4 (KHTML, like Gecko) Version/7.0.5 Safari/537.77.4\"')\n",
      "(1543591986796, '85', 'paid', 'SOMZWCG12A8C13C480', 'ARD7TVE1187B99BFB1', 977, 'Red Bluff, CA', '\"Mozilla/5.0 (Macintosh; Intel Mac OS X 10_10_0) AppleWebKit/537.36 (KHTML, like Gecko) Chrome/36.0.1985.143 Safari/537.36\"')\n",
      "(1543592227796, '85', 'paid', 'SOMZWCG12A8C13C480', 'ARD7TVE1187B99BFB1', 977, 'Red Bluff, CA', '\"Mozilla/5.0 (Macintosh; Intel Mac OS X 10_10_0) AppleWebKit/537.36 (KHTML, like Gecko) Chrome/36.0.1985.143 Safari/537.36\"')\n",
      "(1543592542796, '16', 'paid', 'SOMZWCG12A8C13C480', 'ARD7TVE1187B99BFB1', 1076, 'Birmingham-Hoover, AL', '\"Mozilla/5.0 (Macintosh; Intel Mac OS X 10_9_4) AppleWebKit/537.77.4 (KHTML, like Gecko) Version/7.0.5 Safari/537.77.4\"')\n",
      "(1543592775796, '16', 'paid', 'SOMZWCG12A8C13C480', 'ARD7TVE1187B99BFB1', 1076, 'Birmingham-Hoover, AL', '\"Mozilla/5.0 (Macintosh; Intel Mac OS X 10_9_4) AppleWebKit/537.77.4 (KHTML, like Gecko) Version/7.0.5 Safari/537.77.4\"')\n",
      "(1543593008796, '16', 'paid', 'SOMZWCG12A8C13C480', 'ARD7TVE1187B99BFB1', 1076, 'Birmingham-Hoover, AL', '\"Mozilla/5.0 (Macintosh; Intel Mac OS X 10_9_4) AppleWebKit/537.77.4 (KHTML, like Gecko) Version/7.0.5 Safari/537.77.4\"')\n",
      "(1543593062796, '49', 'paid', 'SOMZWCG12A8C13C480', 'ARD7TVE1187B99BFB1', 1096, 'San Francisco-Oakland-Hayward, CA', 'Mozilla/5.0 (Windows NT 5.1; rv:31.0) Gecko/20100101 Firefox/31.0')\n",
      "(1543593217796, '16', 'paid', 'SOMZWCG12A8C13C480', 'ARD7TVE1187B99BFB1', 1076, 'Birmingham-Hoover, AL', '\"Mozilla/5.0 (Macintosh; Intel Mac OS X 10_9_4) AppleWebKit/537.77.4 (KHTML, like Gecko) Version/7.0.5 Safari/537.77.4\"')\n",
      "(1543593263796, '49', 'paid', 'SOMZWCG12A8C13C480', 'ARD7TVE1187B99BFB1', 1096, 'San Francisco-Oakland-Hayward, CA', 'Mozilla/5.0 (Windows NT 5.1; rv:31.0) Gecko/20100101 Firefox/31.0')\n",
      "(1543593462796, '16', 'paid', 'SOMZWCG12A8C13C480', 'ARD7TVE1187B99BFB1', 1076, 'Birmingham-Hoover, AL', '\"Mozilla/5.0 (Macintosh; Intel Mac OS X 10_9_4) AppleWebKit/537.77.4 (KHTML, like Gecko) Version/7.0.5 Safari/537.77.4\"')\n",
      "(1543593531796, '49', 'paid', 'SOMZWCG12A8C13C480', 'ARD7TVE1187B99BFB1', 1096, 'San Francisco-Oakland-Hayward, CA', 'Mozilla/5.0 (Windows NT 5.1; rv:31.0) Gecko/20100101 Firefox/31.0')\n",
      "(1543593631796, '16', 'paid', 'SOMZWCG12A8C13C480', 'ARD7TVE1187B99BFB1', 1076, 'Birmingham-Hoover, AL', '\"Mozilla/5.0 (Macintosh; Intel Mac OS X 10_9_4) AppleWebKit/537.77.4 (KHTML, like Gecko) Version/7.0.5 Safari/537.77.4\"')\n",
      "(1543593786796, '49', 'paid', 'SOMZWCG12A8C13C480', 'ARD7TVE1187B99BFB1', 1096, 'San Francisco-Oakland-Hayward, CA', 'Mozilla/5.0 (Windows NT 5.1; rv:31.0) Gecko/20100101 Firefox/31.0')\n",
      "(1543593975796, '49', 'paid', 'SOMZWCG12A8C13C480', 'ARD7TVE1187B99BFB1', 1096, 'San Francisco-Oakland-Hayward, CA', 'Mozilla/5.0 (Windows NT 5.1; rv:31.0) Gecko/20100101 Firefox/31.0')\n",
      "(1543594072796, '16', 'paid', 'SOMZWCG12A8C13C480', 'ARD7TVE1187B99BFB1', 1076, 'Birmingham-Hoover, AL', '\"Mozilla/5.0 (Macintosh; Intel Mac OS X 10_9_4) AppleWebKit/537.77.4 (KHTML, like Gecko) Version/7.0.5 Safari/537.77.4\"')\n",
      "(1543594156796, '49', 'paid', 'SOMZWCG12A8C13C480', 'ARD7TVE1187B99BFB1', 1096, 'San Francisco-Oakland-Hayward, CA', 'Mozilla/5.0 (Windows NT 5.1; rv:31.0) Gecko/20100101 Firefox/31.0')\n",
      "(1543594323796, '16', 'paid', 'SOMZWCG12A8C13C480', 'ARD7TVE1187B99BFB1', 1076, 'Birmingham-Hoover, AL', '\"Mozilla/5.0 (Macintosh; Intel Mac OS X 10_9_4) AppleWebKit/537.77.4 (KHTML, like Gecko) Version/7.0.5 Safari/537.77.4\"')\n",
      "(1543594388796, '49', 'paid', 'SOMZWCG12A8C13C480', 'ARD7TVE1187B99BFB1', 1096, 'San Francisco-Oakland-Hayward, CA', 'Mozilla/5.0 (Windows NT 5.1; rv:31.0) Gecko/20100101 Firefox/31.0')\n",
      "(1543594519796, '16', 'paid', 'SOMZWCG12A8C13C480', 'ARD7TVE1187B99BFB1', 1076, 'Birmingham-Hoover, AL', '\"Mozilla/5.0 (Macintosh; Intel Mac OS X 10_9_4) AppleWebKit/537.77.4 (KHTML, like Gecko) Version/7.0.5 Safari/537.77.4\"')\n",
      "(1543594665796, '49', 'paid', 'SOMZWCG12A8C13C480', 'ARD7TVE1187B99BFB1', 1096, 'San Francisco-Oakland-Hayward, CA', 'Mozilla/5.0 (Windows NT 5.1; rv:31.0) Gecko/20100101 Firefox/31.0')\n",
      "(1543594698796, '78', 'free', 'SOMZWCG12A8C13C480', 'ARD7TVE1187B99BFB1', 1059, 'Indianapolis-Carmel-Anderson, IN', 'Mozilla/5.0 (Windows NT 6.1; rv:31.0) Gecko/20100101 Firefox/31.0')\n",
      "(1543594804796, '16', 'paid', 'SOMZWCG12A8C13C480', 'ARD7TVE1187B99BFB1', 1076, 'Birmingham-Hoover, AL', '\"Mozilla/5.0 (Macintosh; Intel Mac OS X 10_9_4) AppleWebKit/537.77.4 (KHTML, like Gecko) Version/7.0.5 Safari/537.77.4\"')\n",
      "(1543594883796, '78', 'free', 'SOMZWCG12A8C13C480', 'ARD7TVE1187B99BFB1', 1059, 'Indianapolis-Carmel-Anderson, IN', 'Mozilla/5.0 (Windows NT 6.1; rv:31.0) Gecko/20100101 Firefox/31.0')\n",
      "(1543594893796, '49', 'paid', 'SOMZWCG12A8C13C480', 'ARD7TVE1187B99BFB1', 1096, 'San Francisco-Oakland-Hayward, CA', 'Mozilla/5.0 (Windows NT 5.1; rv:31.0) Gecko/20100101 Firefox/31.0')\n",
      "(1543595117796, '16', 'paid', 'SOMZWCG12A8C13C480', 'ARD7TVE1187B99BFB1', 1076, 'Birmingham-Hoover, AL', '\"Mozilla/5.0 (Macintosh; Intel Mac OS X 10_9_4) AppleWebKit/537.77.4 (KHTML, like Gecko) Version/7.0.5 Safari/537.77.4\"')\n",
      "(1543595229796, '49', 'paid', 'SOMZWCG12A8C13C480', 'ARD7TVE1187B99BFB1', 1096, 'San Francisco-Oakland-Hayward, CA', 'Mozilla/5.0 (Windows NT 5.1; rv:31.0) Gecko/20100101 Firefox/31.0')\n",
      "(1543595485796, '16', 'paid', 'SOMZWCG12A8C13C480', 'ARD7TVE1187B99BFB1', 1076, 'Birmingham-Hoover, AL', '\"Mozilla/5.0 (Macintosh; Intel Mac OS X 10_9_4) AppleWebKit/537.77.4 (KHTML, like Gecko) Version/7.0.5 Safari/537.77.4\"')\n",
      "(1543595652796, '16', 'paid', 'SOMZWCG12A8C13C480', 'ARD7TVE1187B99BFB1', 1076, 'Birmingham-Hoover, AL', '\"Mozilla/5.0 (Macintosh; Intel Mac OS X 10_9_4) AppleWebKit/537.77.4 (KHTML, like Gecko) Version/7.0.5 Safari/537.77.4\"')\n",
      "(1543595757796, '33', 'free', 'SOMZWCG12A8C13C480', 'ARD7TVE1187B99BFB1', 1026, 'Eugene, OR', '\"Mozilla/5.0 (Windows NT 6.1; WOW64) AppleWebKit/537.36 (KHTML, like Gecko) Chrome/36.0.1985.125 Safari/537.36\"')\n",
      "(1543595890796, '16', 'paid', 'SOMZWCG12A8C13C480', 'ARD7TVE1187B99BFB1', 1076, 'Birmingham-Hoover, AL', '\"Mozilla/5.0 (Macintosh; Intel Mac OS X 10_9_4) AppleWebKit/537.77.4 (KHTML, like Gecko) Version/7.0.5 Safari/537.77.4\"')\n",
      "(1543595952796, '33', 'free', 'SOMZWCG12A8C13C480', 'ARD7TVE1187B99BFB1', 1026, 'Eugene, OR', '\"Mozilla/5.0 (Windows NT 6.1; WOW64) AppleWebKit/537.36 (KHTML, like Gecko) Chrome/36.0.1985.125 Safari/537.36\"')\n",
      "(1543596083796, '16', 'paid', 'SOMZWCG12A8C13C480', 'ARD7TVE1187B99BFB1', 1076, 'Birmingham-Hoover, AL', '\"Mozilla/5.0 (Macintosh; Intel Mac OS X 10_9_4) AppleWebKit/537.77.4 (KHTML, like Gecko) Version/7.0.5 Safari/537.77.4\"')\n",
      "(1543596208796, '33', 'free', 'SOMZWCG12A8C13C480', 'ARD7TVE1187B99BFB1', 1026, 'Eugene, OR', '\"Mozilla/5.0 (Windows NT 6.1; WOW64) AppleWebKit/537.36 (KHTML, like Gecko) Chrome/36.0.1985.125 Safari/537.36\"')\n",
      "(1543596328796, '16', 'paid', 'SOMZWCG12A8C13C480', 'ARD7TVE1187B99BFB1', 1076, 'Birmingham-Hoover, AL', '\"Mozilla/5.0 (Macintosh; Intel Mac OS X 10_9_4) AppleWebKit/537.77.4 (KHTML, like Gecko) Version/7.0.5 Safari/537.77.4\"')\n",
      "(1543596546796, '16', 'paid', 'SOMZWCG12A8C13C480', 'ARD7TVE1187B99BFB1', 1076, 'Birmingham-Hoover, AL', '\"Mozilla/5.0 (Macintosh; Intel Mac OS X 10_9_4) AppleWebKit/537.77.4 (KHTML, like Gecko) Version/7.0.5 Safari/537.77.4\"')\n",
      "(1543596702796, '16', 'paid', 'SOMZWCG12A8C13C480', 'ARD7TVE1187B99BFB1', 1076, 'Birmingham-Hoover, AL', '\"Mozilla/5.0 (Macintosh; Intel Mac OS X 10_9_4) AppleWebKit/537.77.4 (KHTML, like Gecko) Version/7.0.5 Safari/537.77.4\"')\n",
      "(1543596941796, '16', 'paid', 'SOMZWCG12A8C13C480', 'ARD7TVE1187B99BFB1', 1076, 'Birmingham-Hoover, AL', '\"Mozilla/5.0 (Macintosh; Intel Mac OS X 10_9_4) AppleWebKit/537.77.4 (KHTML, like Gecko) Version/7.0.5 Safari/537.77.4\"')\n",
      "(1543597146796, '16', 'paid', 'SOMZWCG12A8C13C480', 'ARD7TVE1187B99BFB1', 1076, 'Birmingham-Hoover, AL', '\"Mozilla/5.0 (Macintosh; Intel Mac OS X 10_9_4) AppleWebKit/537.77.4 (KHTML, like Gecko) Version/7.0.5 Safari/537.77.4\"')\n",
      "(1543597383796, '16', 'paid', 'SOMZWCG12A8C13C480', 'ARD7TVE1187B99BFB1', 1076, 'Birmingham-Hoover, AL', '\"Mozilla/5.0 (Macintosh; Intel Mac OS X 10_9_4) AppleWebKit/537.77.4 (KHTML, like Gecko) Version/7.0.5 Safari/537.77.4\"')\n",
      "(1543597642796, '16', 'paid', 'SOMZWCG12A8C13C480', 'ARD7TVE1187B99BFB1', 1076, 'Birmingham-Hoover, AL', '\"Mozilla/5.0 (Macintosh; Intel Mac OS X 10_9_4) AppleWebKit/537.77.4 (KHTML, like Gecko) Version/7.0.5 Safari/537.77.4\"')\n",
      "(1543597876796, '16', 'paid', 'SOMZWCG12A8C13C480', 'ARD7TVE1187B99BFB1', 1076, 'Birmingham-Hoover, AL', '\"Mozilla/5.0 (Macintosh; Intel Mac OS X 10_9_4) AppleWebKit/537.77.4 (KHTML, like Gecko) Version/7.0.5 Safari/537.77.4\"')\n",
      "(1543598174796, '49', 'paid', 'SOMZWCG12A8C13C480', 'ARD7TVE1187B99BFB1', 1114, 'San Francisco-Oakland-Hayward, CA', 'Mozilla/5.0 (Windows NT 5.1; rv:31.0) Gecko/20100101 Firefox/31.0')\n",
      "(1543598368796, '49', 'paid', 'SOMZWCG12A8C13C480', 'ARD7TVE1187B99BFB1', 1114, 'San Francisco-Oakland-Hayward, CA', 'Mozilla/5.0 (Windows NT 5.1; rv:31.0) Gecko/20100101 Firefox/31.0')\n",
      "(1543598398796, '16', 'paid', 'SOMZWCG12A8C13C480', 'ARD7TVE1187B99BFB1', 1076, 'Birmingham-Hoover, AL', '\"Mozilla/5.0 (Macintosh; Intel Mac OS X 10_9_4) AppleWebKit/537.77.4 (KHTML, like Gecko) Version/7.0.5 Safari/537.77.4\"')\n",
      "(1543598521796, '49', 'paid', 'SOMZWCG12A8C13C480', 'ARD7TVE1187B99BFB1', 1114, 'San Francisco-Oakland-Hayward, CA', 'Mozilla/5.0 (Windows NT 5.1; rv:31.0) Gecko/20100101 Firefox/31.0')\n",
      "(1543598647796, '16', 'paid', 'SOMZWCG12A8C13C480', 'ARD7TVE1187B99BFB1', 1076, 'Birmingham-Hoover, AL', '\"Mozilla/5.0 (Macintosh; Intel Mac OS X 10_9_4) AppleWebKit/537.77.4 (KHTML, like Gecko) Version/7.0.5 Safari/537.77.4\"')\n",
      "(1543598736796, '49', 'paid', 'SOMZWCG12A8C13C480', 'ARD7TVE1187B99BFB1', 1114, 'San Francisco-Oakland-Hayward, CA', 'Mozilla/5.0 (Windows NT 5.1; rv:31.0) Gecko/20100101 Firefox/31.0')\n",
      "(1543598917796, '49', 'paid', 'SOMZWCG12A8C13C480', 'ARD7TVE1187B99BFB1', 1114, 'San Francisco-Oakland-Hayward, CA', 'Mozilla/5.0 (Windows NT 5.1; rv:31.0) Gecko/20100101 Firefox/31.0')\n",
      "(1543599027796, '16', 'paid', 'SOMZWCG12A8C13C480', 'ARD7TVE1187B99BFB1', 1076, 'Birmingham-Hoover, AL', '\"Mozilla/5.0 (Macintosh; Intel Mac OS X 10_9_4) AppleWebKit/537.77.4 (KHTML, like Gecko) Version/7.0.5 Safari/537.77.4\"')\n",
      "(1543599084796, '49', 'paid', 'SOMZWCG12A8C13C480', 'ARD7TVE1187B99BFB1', 1114, 'San Francisco-Oakland-Hayward, CA', 'Mozilla/5.0 (Windows NT 5.1; rv:31.0) Gecko/20100101 Firefox/31.0')\n",
      "(1543599267796, '16', 'paid', 'SOMZWCG12A8C13C480', 'ARD7TVE1187B99BFB1', 1076, 'Birmingham-Hoover, AL', '\"Mozilla/5.0 (Macintosh; Intel Mac OS X 10_9_4) AppleWebKit/537.77.4 (KHTML, like Gecko) Version/7.0.5 Safari/537.77.4\"')\n",
      "(1543599307796, '49', 'paid', 'SOMZWCG12A8C13C480', 'ARD7TVE1187B99BFB1', 1114, 'San Francisco-Oakland-Hayward, CA', 'Mozilla/5.0 (Windows NT 5.1; rv:31.0) Gecko/20100101 Firefox/31.0')\n",
      "(1543599548796, '49', 'paid', 'SOMZWCG12A8C13C480', 'ARD7TVE1187B99BFB1', 1114, 'San Francisco-Oakland-Hayward, CA', 'Mozilla/5.0 (Windows NT 5.1; rv:31.0) Gecko/20100101 Firefox/31.0')\n",
      "(1543599557796, '16', 'paid', 'SOMZWCG12A8C13C480', 'ARD7TVE1187B99BFB1', 1076, 'Birmingham-Hoover, AL', '\"Mozilla/5.0 (Macintosh; Intel Mac OS X 10_9_4) AppleWebKit/537.77.4 (KHTML, like Gecko) Version/7.0.5 Safari/537.77.4\"')\n",
      "(1543599778796, '16', 'paid', 'SOMZWCG12A8C13C480', 'ARD7TVE1187B99BFB1', 1076, 'Birmingham-Hoover, AL', '\"Mozilla/5.0 (Macintosh; Intel Mac OS X 10_9_4) AppleWebKit/537.77.4 (KHTML, like Gecko) Version/7.0.5 Safari/537.77.4\"')\n",
      "(1543599840796, '49', 'paid', 'SOMZWCG12A8C13C480', 'ARD7TVE1187B99BFB1', 1114, 'San Francisco-Oakland-Hayward, CA', 'Mozilla/5.0 (Windows NT 5.1; rv:31.0) Gecko/20100101 Firefox/31.0')\n",
      "(1543599941796, '49', 'paid', 'SOMZWCG12A8C13C480', 'ARD7TVE1187B99BFB1', 1114, 'San Francisco-Oakland-Hayward, CA', 'Mozilla/5.0 (Windows NT 5.1; rv:31.0) Gecko/20100101 Firefox/31.0')\n",
      "(1543600033796, '16', 'paid', 'SOMZWCG12A8C13C480', 'ARD7TVE1187B99BFB1', 1076, 'Birmingham-Hoover, AL', '\"Mozilla/5.0 (Macintosh; Intel Mac OS X 10_9_4) AppleWebKit/537.77.4 (KHTML, like Gecko) Version/7.0.5 Safari/537.77.4\"')\n",
      "(1543600135796, '49', 'paid', 'SOMZWCG12A8C13C480', 'ARD7TVE1187B99BFB1', 1114, 'San Francisco-Oakland-Hayward, CA', 'Mozilla/5.0 (Windows NT 5.1; rv:31.0) Gecko/20100101 Firefox/31.0')\n",
      "(1543600185796, '16', 'paid', 'SOMZWCG12A8C13C480', 'ARD7TVE1187B99BFB1', 1076, 'Birmingham-Hoover, AL', '\"Mozilla/5.0 (Macintosh; Intel Mac OS X 10_9_4) AppleWebKit/537.77.4 (KHTML, like Gecko) Version/7.0.5 Safari/537.77.4\"')\n",
      "(1543600424796, '16', 'paid', 'SOMZWCG12A8C13C480', 'ARD7TVE1187B99BFB1', 1076, 'Birmingham-Hoover, AL', '\"Mozilla/5.0 (Macintosh; Intel Mac OS X 10_9_4) AppleWebKit/537.77.4 (KHTML, like Gecko) Version/7.0.5 Safari/537.77.4\"')\n",
      "(1543600483796, '49', 'paid', 'SOMZWCG12A8C13C480', 'ARD7TVE1187B99BFB1', 1114, 'San Francisco-Oakland-Hayward, CA', 'Mozilla/5.0 (Windows NT 5.1; rv:31.0) Gecko/20100101 Firefox/31.0')\n",
      "(1543600644796, '16', 'paid', 'SOMZWCG12A8C13C480', 'ARD7TVE1187B99BFB1', 1076, 'Birmingham-Hoover, AL', '\"Mozilla/5.0 (Macintosh; Intel Mac OS X 10_9_4) AppleWebKit/537.77.4 (KHTML, like Gecko) Version/7.0.5 Safari/537.77.4\"')\n",
      "(1543600723796, '49', 'paid', 'SOMZWCG12A8C13C480', 'ARD7TVE1187B99BFB1', 1114, 'San Francisco-Oakland-Hayward, CA', 'Mozilla/5.0 (Windows NT 5.1; rv:31.0) Gecko/20100101 Firefox/31.0')\n",
      "(1543600999796, '49', 'paid', 'SOMZWCG12A8C13C480', 'ARD7TVE1187B99BFB1', 1114, 'San Francisco-Oakland-Hayward, CA', 'Mozilla/5.0 (Windows NT 5.1; rv:31.0) Gecko/20100101 Firefox/31.0')\n",
      "(1543601063796, '16', 'paid', 'SOMZWCG12A8C13C480', 'ARD7TVE1187B99BFB1', 1076, 'Birmingham-Hoover, AL', '\"Mozilla/5.0 (Macintosh; Intel Mac OS X 10_9_4) AppleWebKit/537.77.4 (KHTML, like Gecko) Version/7.0.5 Safari/537.77.4\"')\n",
      "(1543601287796, '49', 'paid', 'SOMZWCG12A8C13C480', 'ARD7TVE1187B99BFB1', 1114, 'San Francisco-Oakland-Hayward, CA', 'Mozilla/5.0 (Windows NT 5.1; rv:31.0) Gecko/20100101 Firefox/31.0')\n",
      "(1543601401796, '16', 'paid', 'SOMZWCG12A8C13C480', 'ARD7TVE1187B99BFB1', 1076, 'Birmingham-Hoover, AL', '\"Mozilla/5.0 (Macintosh; Intel Mac OS X 10_9_4) AppleWebKit/537.77.4 (KHTML, like Gecko) Version/7.0.5 Safari/537.77.4\"')\n",
      "(1543601616796, '49', 'paid', 'SOMZWCG12A8C13C480', 'ARD7TVE1187B99BFB1', 1114, 'San Francisco-Oakland-Hayward, CA', 'Mozilla/5.0 (Windows NT 5.1; rv:31.0) Gecko/20100101 Firefox/31.0')\n",
      "(1543601696796, '16', 'paid', 'SOMZWCG12A8C13C480', 'ARD7TVE1187B99BFB1', 1076, 'Birmingham-Hoover, AL', '\"Mozilla/5.0 (Macintosh; Intel Mac OS X 10_9_4) AppleWebKit/537.77.4 (KHTML, like Gecko) Version/7.0.5 Safari/537.77.4\"')\n",
      "(1543601780796, '91', 'free', 'SOMZWCG12A8C13C480', 'ARD7TVE1187B99BFB1', 1085, 'Dallas-Fort Worth-Arlington, TX', 'Mozilla/5.0 (compatible; MSIE 10.0; Windows NT 6.2; WOW64; Trident/6.0)')\n",
      "(1543601943796, '16', 'paid', 'SOMZWCG12A8C13C480', 'ARD7TVE1187B99BFB1', 1076, 'Birmingham-Hoover, AL', '\"Mozilla/5.0 (Macintosh; Intel Mac OS X 10_9_4) AppleWebKit/537.77.4 (KHTML, like Gecko) Version/7.0.5 Safari/537.77.4\"')\n",
      "(1543601973796, '49', 'paid', 'SOMZWCG12A8C13C480', 'ARD7TVE1187B99BFB1', 1114, 'San Francisco-Oakland-Hayward, CA', 'Mozilla/5.0 (Windows NT 5.1; rv:31.0) Gecko/20100101 Firefox/31.0')\n",
      "(1543602079796, '91', 'free', 'SOMZWCG12A8C13C480', 'ARD7TVE1187B99BFB1', 1085, 'Dallas-Fort Worth-Arlington, TX', 'Mozilla/5.0 (compatible; MSIE 10.0; Windows NT 6.2; WOW64; Trident/6.0)')\n",
      "(1543602106796, '16', 'paid', 'SOMZWCG12A8C13C480', 'ARD7TVE1187B99BFB1', 1076, 'Birmingham-Hoover, AL', '\"Mozilla/5.0 (Macintosh; Intel Mac OS X 10_9_4) AppleWebKit/537.77.4 (KHTML, like Gecko) Version/7.0.5 Safari/537.77.4\"')\n",
      "(1543602245796, '49', 'paid', 'SOMZWCG12A8C13C480', 'ARD7TVE1187B99BFB1', 1114, 'San Francisco-Oakland-Hayward, CA', 'Mozilla/5.0 (Windows NT 5.1; rv:31.0) Gecko/20100101 Firefox/31.0')\n",
      "(1543602372796, '16', 'paid', 'SOMZWCG12A8C13C480', 'ARD7TVE1187B99BFB1', 1076, 'Birmingham-Hoover, AL', '\"Mozilla/5.0 (Macintosh; Intel Mac OS X 10_9_4) AppleWebKit/537.77.4 (KHTML, like Gecko) Version/7.0.5 Safari/537.77.4\"')\n",
      "(1543602488796, '49', 'paid', 'SOMZWCG12A8C13C480', 'ARD7TVE1187B99BFB1', 1114, 'San Francisco-Oakland-Hayward, CA', 'Mozilla/5.0 (Windows NT 5.1; rv:31.0) Gecko/20100101 Firefox/31.0')\n",
      "(1543602542796, '16', 'paid', 'SOMZWCG12A8C13C480', 'ARD7TVE1187B99BFB1', 1076, 'Birmingham-Hoover, AL', '\"Mozilla/5.0 (Macintosh; Intel Mac OS X 10_9_4) AppleWebKit/537.77.4 (KHTML, like Gecko) Version/7.0.5 Safari/537.77.4\"')\n",
      "(1543602694796, '16', 'paid', 'SOMZWCG12A8C13C480', 'ARD7TVE1187B99BFB1', 1076, 'Birmingham-Hoover, AL', '\"Mozilla/5.0 (Macintosh; Intel Mac OS X 10_9_4) AppleWebKit/537.77.4 (KHTML, like Gecko) Version/7.0.5 Safari/537.77.4\"')\n",
      "(1543602766796, '49', 'paid', 'SOMZWCG12A8C13C480', 'ARD7TVE1187B99BFB1', 1114, 'San Francisco-Oakland-Hayward, CA', 'Mozilla/5.0 (Windows NT 5.1; rv:31.0) Gecko/20100101 Firefox/31.0')\n",
      "(1543602919796, '16', 'paid', 'SOMZWCG12A8C13C480', 'ARD7TVE1187B99BFB1', 1076, 'Birmingham-Hoover, AL', '\"Mozilla/5.0 (Macintosh; Intel Mac OS X 10_9_4) AppleWebKit/537.77.4 (KHTML, like Gecko) Version/7.0.5 Safari/537.77.4\"')\n",
      "(1543602985796, '49', 'paid', 'SOMZWCG12A8C13C480', 'ARD7TVE1187B99BFB1', 1114, 'San Francisco-Oakland-Hayward, CA', 'Mozilla/5.0 (Windows NT 5.1; rv:31.0) Gecko/20100101 Firefox/31.0')\n",
      "(1543603162796, '49', 'paid', 'SOMZWCG12A8C13C480', 'ARD7TVE1187B99BFB1', 1114, 'San Francisco-Oakland-Hayward, CA', 'Mozilla/5.0 (Windows NT 5.1; rv:31.0) Gecko/20100101 Firefox/31.0')\n",
      "(1543603205796, '16', 'paid', 'SOMZWCG12A8C13C480', 'ARD7TVE1187B99BFB1', 1076, 'Birmingham-Hoover, AL', '\"Mozilla/5.0 (Macintosh; Intel Mac OS X 10_9_4) AppleWebKit/537.77.4 (KHTML, like Gecko) Version/7.0.5 Safari/537.77.4\"')\n",
      "(1543603476796, '16', 'paid', 'SOMZWCG12A8C13C480', 'ARD7TVE1187B99BFB1', 1076, 'Birmingham-Hoover, AL', '\"Mozilla/5.0 (Macintosh; Intel Mac OS X 10_9_4) AppleWebKit/537.77.4 (KHTML, like Gecko) Version/7.0.5 Safari/537.77.4\"')\n",
      "(1543603678796, '16', 'paid', 'SOMZWCG12A8C13C480', 'ARD7TVE1187B99BFB1', 1076, 'Birmingham-Hoover, AL', '\"Mozilla/5.0 (Macintosh; Intel Mac OS X 10_9_4) AppleWebKit/537.77.4 (KHTML, like Gecko) Version/7.0.5 Safari/537.77.4\"')\n",
      "(1543603884796, '16', 'paid', 'SOMZWCG12A8C13C480', 'ARD7TVE1187B99BFB1', 1076, 'Birmingham-Hoover, AL', '\"Mozilla/5.0 (Macintosh; Intel Mac OS X 10_9_4) AppleWebKit/537.77.4 (KHTML, like Gecko) Version/7.0.5 Safari/537.77.4\"')\n",
      "(1543607664796, '5', 'free', 'SOMZWCG12A8C13C480', 'ARD7TVE1187B99BFB1', 985, 'Detroit-Warren-Dearborn, MI', '\"Mozilla/5.0 (Macintosh; Intel Mac OS X 10_9_4) AppleWebKit/537.77.4 (KHTML, like Gecko) Version/7.0.5 Safari/537.77.4\"')\n"
     ]
    }
   ],
   "source": [
    "for index, row in df.iterrows():\n",
    "\n",
    "    # get songid and artistid from song and artist tables\n",
    "    cur.execute(song_select, (row.song, row.artist, row.length))\n",
    "    results = cur.fetchone()\n",
    "#     print(row)\n",
    "    \n",
    "    if results:\n",
    "        songid, artistid = results\n",
    "    else:\n",
    "        songid, artistid = None, None\n",
    "\n",
    "    # insert songplay record\n",
    "    songplay_data = (row.ts, row.userId, row.level, songid, artistid, row.sessionId, row.location, row.userAgent)\n",
    "#     print(songplay_data)\n",
    "    cur.execute(songplay_table_insert, songplay_data)\n",
    "    conn.commit()"
   ]
  },
  {
   "cell_type": "markdown",
   "metadata": {
    "editable": true
   },
   "source": [
    "Run `test.ipynb` to see if you've successfully added records to this table."
   ]
  },
  {
   "cell_type": "markdown",
   "metadata": {
    "editable": true
   },
   "source": [
    "# Close Connection to Sparkify Database"
   ]
  },
  {
   "cell_type": "code",
   "execution_count": 23,
   "metadata": {
    "editable": true
   },
   "outputs": [],
   "source": [
    "conn.close()"
   ]
  },
  {
   "cell_type": "markdown",
   "metadata": {
    "editable": true
   },
   "source": [
    "# Implement `etl.py`\n",
    "Use what you've completed in this notebook to implement `etl.py`."
   ]
  },
  {
   "cell_type": "code",
   "execution_count": null,
   "metadata": {
    "editable": true
   },
   "outputs": [],
   "source": []
  }
 ],
 "metadata": {
  "kernelspec": {
   "display_name": "Python 3",
   "language": "python",
   "name": "python3"
  },
  "language_info": {
   "codemirror_mode": {
    "name": "ipython",
    "version": 3
   },
   "file_extension": ".py",
   "mimetype": "text/x-python",
   "name": "python",
   "nbconvert_exporter": "python",
   "pygments_lexer": "ipython3",
   "version": "3.6.3"
  }
 },
 "nbformat": 4,
 "nbformat_minor": 4
}
